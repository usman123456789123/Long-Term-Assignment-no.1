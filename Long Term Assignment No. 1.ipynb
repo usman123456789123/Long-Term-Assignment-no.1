{
 "cells": [
  {
   "cell_type": "markdown",
   "id": "6b531071-ae5c-41f2-a37d-ffb72c007457",
   "metadata": {},
   "source": [
    "   # Question01:\r\n",
    "Write a program which will find all such numbers which are divisible by 7 but\r\n",
    "are not a multiple of 5, between 2000 and 3200 (both included).The numbers\r\n",
    "obtained should be printed in a comma-separated sequence on a single lin### e.\r\n",
    "Hints:\r\n",
    "Consider use range(#begin, #end) method."
   ]
  },
  {
   "cell_type": "code",
   "execution_count": 1,
   "id": "9f00216e-3009-4317-92dc-940e8b75ba92",
   "metadata": {},
   "outputs": [
    {
     "name": "stdout",
     "output_type": "stream",
     "text": [
      "2002,2009,2016,2023,2037,2044,2051,2058,2072,2079,2086,2093,2107,2114,2121,2128,2142,2149,2156,2163,2177,2184,2191,2198,2212,2219,2226,2233,2247,2254,2261,2268,2282,2289,2296,2303,2317,2324,2331,2338,2352,2359,2366,2373,2387,2394,2401,2408,2422,2429,2436,2443,2457,2464,2471,2478,2492,2499,2506,2513,2527,2534,2541,2548,2562,2569,2576,2583,2597,2604,2611,2618,2632,2639,2646,2653,2667,2674,2681,2688,2702,2709,2716,2723,2737,2744,2751,2758,2772,2779,2786,2793,2807,2814,2821,2828,2842,2849,2856,2863,2877,2884,2891,2898,2912,2919,2926,2933,2947,2954,2961,2968,2982,2989,2996,3003,3017,3024,3031,3038,3052,3059,3066,3073,3087,3094,3101,3108,3122,3129,3136,3143,3157,3164,3171,3178,3192,3199,"
     ]
    }
   ],
   "source": [
    "for num in range(2000,3201):\n",
    "    if num % 7 == 0 and num % 5 != 0:\n",
    "        print(num, end=\",\")"
   ]
  },
  {
   "cell_type": "markdown",
   "id": "89d33a31-deb5-47e1-91a6-0e312cbe069b",
   "metadata": {},
   "source": [
    "# Question02:\n",
    "Write a program which can compute the factorial of a given numbers.The results\n",
    "should be printed in a comma-separated sequence on a single line.Suppose the\n",
    "following input is supplied to the program: 8 Then, the output should be:40320\n",
    "### Hints:\n",
    "In case of input data being supplied to the question, it should be assumed to be a\n",
    "console input."
   ]
  },
  {
   "cell_type": "code",
   "execution_count": 2,
   "id": "edff37f0-5c1f-4054-ab8d-9179bdf64bf2",
   "metadata": {},
   "outputs": [
    {
     "name": "stdin",
     "output_type": "stream",
     "text": [
      "Enter a number:  0\n"
     ]
    },
    {
     "name": "stdout",
     "output_type": "stream",
     "text": [
      "1\n"
     ]
    }
   ],
   "source": [
    "def factorial(n):\n",
    "    if n == 0:\n",
    "        return 1\n",
    "    else:\n",
    "        return n * factorial(n-1)\n",
    "\n",
    "num = int(input(\"Enter a number: \"))\n",
    "result = factorial(num)\n",
    "print(result)\n"
   ]
  },
  {
   "cell_type": "markdown",
   "id": "f198ff0f-4f1d-4c25-b388-9464cebce89c",
   "metadata": {},
   "source": [
    "# Question03:\n",
    "With a given integral number n, write a program to generate a dictionary that\n",
    "contains (i, i x i) such that is an integral number between 1 and n (both\n",
    "included). and then the program should print the dictionary.Suppose the\n",
    "###### following input is supplied to the program: 8\n",
    "###### Then, the output should be:\n",
    "{1: 1, 2: 4, 3: 9, 4: 16, 5: 25, 6: 36, 7: 49, 8: 64}\n",
    "### Hints:\n",
    "In case of input data being supplied to the question, it should be assumed to be a\n",
    "console input.Consider use dict()"
   ]
  },
  {
   "cell_type": "code",
   "execution_count": 3,
   "id": "a3f6c190-2a2a-4e98-ac4f-bfe30d3fb4c8",
   "metadata": {},
   "outputs": [
    {
     "name": "stdin",
     "output_type": "stream",
     "text": [
      "Enter a number:  4\n"
     ]
    },
    {
     "name": "stdout",
     "output_type": "stream",
     "text": [
      "{1: 1, 2: 4, 3: 9, 4: 16}\n"
     ]
    }
   ],
   "source": [
    "def generate_square_dict(n):\n",
    "    square_dict = {}\n",
    "    for i in range(1, n + 1):\n",
    "        square_dict[i] = i * i\n",
    "    return square_dict\n",
    "\n",
    "n = int(input(\"Enter a number: \"))\n",
    "square_dict = generate_square_dict(n)\n",
    "print(square_dict)"
   ]
  },
  {
   "cell_type": "markdown",
   "id": "ea3e9f74-0cfd-4459-b399-cd017010413f",
   "metadata": {},
   "source": [
    "# Question04:\n",
    "Write a program which accepts a sequence of comma-separated numbers from\n",
    "console and generate a list and a tuple which contains every number.Suppose the\n",
    " ##### following input is supplied to the program:\n",
    "34,67,55,33,12,98\n",
    "##### Then, the output should be:\n",
    "['34', '67', '55', '33', '12', '98']\n",
    "('34', '67', '55', '33', '12', '98')\n",
    "### Hints:\n",
    "In case of input data being supplied to the question, it should be assumed to be a\n",
    "console input.tuple() method can convert list to tuple"
   ]
  },
  {
   "cell_type": "code",
   "execution_count": 6,
   "id": "91c5adf3-6d3e-4735-a94f-3ad855cf4293",
   "metadata": {},
   "outputs": [
    {
     "name": "stdin",
     "output_type": "stream",
     "text": [
      "Enter a sequence of numbers:  34,35,36,36\n"
     ]
    },
    {
     "name": "stdout",
     "output_type": "stream",
     "text": [
      "['34', '35', '36', '36']\n",
      "('34', '35', '36', '36')\n"
     ]
    }
   ],
   "source": [
    "input_sequence = input(\"Enter a sequence of numbers: \")\n",
    "num_list = input_sequence.split(',')\n",
    "num_tuple = tuple(num_list)\n",
    "print(num_list)\n",
    "print(num_tuple)"
   ]
  },
  {
   "cell_type": "markdown",
   "id": "cad16aa0-df6a-4836-a1c8-3305c47de8a9",
   "metadata": {},
   "source": [
    "# Question05:\n",
    "Define a class which has at least two methods:\n",
    " getString: to get a string from console input\n",
    " printString: to print the string in upper case.\n",
    "Also please include simple test function to test the class methds \n",
    "### Hints:\n",
    "Use init method to construct some parametersmeters"
   ]
  },
  {
   "cell_type": "code",
   "execution_count": 18,
   "id": "2456d255-b082-455a-a0e3-630b1028e8fd",
   "metadata": {},
   "outputs": [
    {
     "name": "stdin",
     "output_type": "stream",
     "text": [
      "Enter a string:  05\n"
     ]
    },
    {
     "name": "stdout",
     "output_type": "stream",
     "text": [
      "String in uppercase: 05\n"
     ]
    }
   ],
   "source": [
    "class StringManipulator:\n",
    "    def __init__(self):\n",
    "        self.input_string = \"\"\n",
    "\n",
    "    def getString(self):\n",
    "        self.input_string = input(\"Enter a string: \")\n",
    "\n",
    "    def printString(self):\n",
    "        print(\"String in uppercase:\", self.input_string.upper())\n",
    "\n",
    "def test_string_manipulator():\n",
    "    test_string = StringManipulator()\n",
    "    test_string.getString()\n",
    "    test_string.printString()\n",
    "\n",
    "test_string_manipulator()\n"
   ]
  },
  {
   "cell_type": "markdown",
   "id": "0e95c7a0-0012-4538-bdaf-1cbcaaf62a9b",
   "metadata": {},
   "source": [
    "# Question06:\n",
    "Write a program that calculates and prints the value according to the given\n",
    "formula:\n",
    "Q = Square root of [(2 _ C _ D)/H]\n",
    "Following are the fixed values of C and H:\n",
    "C is 50. H is 30.\n",
    "\n",
    "D is the variable whose values should be input to your program in a comma-\n",
    "separated sequence.For example Let us assume the following comma separated\n",
    "\n",
    "##### input sequence is given to the program:\n",
    "100,150,180\n",
    "##### The output of the program should be:\n",
    "18,22,24\n",
    "\n",
    "### Hints:\n",
    "If the output received is in decimal form, it should be rounded off to its nearest\n",
    "value (for example, if the output received is 26.0, it should be printed as 26).In\n",
    "case of input data being supplied to the question, it should be assumed to be a\n",
    "console input."
   ]
  },
  {
   "cell_type": "code",
   "execution_count": 8,
   "id": "d9095abf-6442-4d10-9045-e276d3a4a4af",
   "metadata": {},
   "outputs": [
    {
     "name": "stdin",
     "output_type": "stream",
     "text": [
      "Enter comma-separated values of D:  100,150,180\n"
     ]
    },
    {
     "name": "stdout",
     "output_type": "stream",
     "text": [
      "18,22,24\n"
     ]
    }
   ],
   "source": [
    "import math\n",
    "\n",
    "def calculate(D, C=50, H=30):\n",
    "    return int(math.sqrt((2 * C * D) / H))\n",
    "\n",
    "def main():\n",
    "    input_sequence = input(\"Enter comma-separated values of D: \").split(',')\n",
    "    output_sequence = [str(calculate(int(d))) for d in input_sequence]\n",
    "    print(','.join(output_sequence))\n",
    "\n",
    "if __name__ == \"__main__\":\n",
    "    main()"
   ]
  },
  {
   "cell_type": "markdown",
   "id": "eac216a3-6a4b-4efe-a4cb-843d7b261f17",
   "metadata": {},
   "source": [
    "# Question07:\n",
    "Write a program which takes 2 digits, X,Y as input and generates a 2-\n",
    "dimensional array. The element value in the i-th row and j-th column of the\n",
    "array should be i _ j.*\n",
    "#### Note: i=0,1.., X-1; j=0,1,¡Y-1.\n",
    "##### Suppose the following inputs are given to the\n",
    "program: 3,5\n",
    "##### Then, the output of the program should be:\n",
    "[[0, 0, 0, 0, 0], [0, 1, 2, 3, 4], [0, 2, 4, 6, 8]]\n",
    "\n",
    "### Hints:\n",
    "Note: In case of input data being supplied to the question, it should be assumed\n",
    "to be a console input in a comma-separated form."
   ]
  },
  {
   "cell_type": "code",
   "execution_count": 9,
   "id": "b112bd20-2b7c-4585-b119-31f2fe6b9e4b",
   "metadata": {},
   "outputs": [
    {
     "name": "stdin",
     "output_type": "stream",
     "text": [
      "Enter the values of X and Y (comma-separated):  3,5\n"
     ]
    },
    {
     "name": "stdout",
     "output_type": "stream",
     "text": [
      "[[0, 0, 0, 0, 0], [0, 1, 2, 3, 4], [0, 2, 4, 6, 8]]\n"
     ]
    }
   ],
   "source": [
    "def generate_2d_array(X, Y):\n",
    "    return [[i * j for j in range(Y)] for i in range(X)]\n",
    "\n",
    "def main():\n",
    "    X, Y = map(int, input(\"Enter the values of X and Y (comma-separated): \").split(','))\n",
    "    array_2d = generate_2d_array(X, Y)\n",
    "    print(array_2d)\n",
    "\n",
    "if __name__ == \"__main__\":\n",
    "    main()\n"
   ]
  },
  {
   "cell_type": "markdown",
   "id": "322d936c-a801-4884-b1e7-80c72ca27f0a",
   "metadata": {},
   "source": [
    "# Question08:\n",
    "Write a program that accepts a comma separated sequence of words as input and\n",
    "prints the words in a comma-separated sequence after sorting them\n",
    "alphabetically.\n",
    "##### Suppose the following input is supplied to the program:\n",
    "without,hello,bag,world\n",
    "##### Then, the output should be:\n",
    "bag,hello,without,world\n",
    "\n",
    "### Hints:\n",
    "In case of input data being supplied to the question, it should be assumed to be a\n",
    "console input."
   ]
  },
  {
   "cell_type": "code",
   "execution_count": 11,
   "id": "fe5377f3-584f-4f66-ae2f-0a9716aa1029",
   "metadata": {},
   "outputs": [
    {
     "name": "stdin",
     "output_type": "stream",
     "text": [
      "Enter a comma-separated sequence of words:  CAR, BAG, AC\n"
     ]
    },
    {
     "name": "stdout",
     "output_type": "stream",
     "text": [
      " AC, BAG,CAR\n"
     ]
    }
   ],
   "source": [
    "def sort_words(sequence):\n",
    "    words = sequence.split(',')\n",
    "    sorted_words = sorted(words)\n",
    "    return ','.join(sorted_words)\n",
    "\n",
    "def main():\n",
    "    input_sequence = input(\"Enter a comma-separated sequence of words: \")\n",
    "    sorted_sequence = sort_words(input_sequence)\n",
    "    print(sorted_sequence)\n",
    "\n",
    "if __name__ == \"__main__\":\n",
    "    main()"
   ]
  },
  {
   "cell_type": "markdown",
   "id": "a17ea1a7-6143-40c2-9c6b-ccab07774c73",
   "metadata": {},
   "source": [
    "# Question09:\n",
    "Write a program that accepts sequence of lines as input and prints the lines after\n",
    "making all characters in the sentence capitalized.\n",
    "##### Suppose the following input is supplied to the program:\n",
    "Hello world\n",
    "Practice makes perfect\n",
    "##### Then, the output should be:\n",
    "HELLO WORLD\n",
    "PRACTICE MAKES PERFECT\n",
    "\n",
    "### Hints:\n",
    "In case of input data being supplied to the question, it should be assumed to be a\n",
    "console input."
   ]
  },
  {
   "cell_type": "code",
   "execution_count": 12,
   "id": "a1d6a77e-b638-42c7-bff0-f46d8259f5c9",
   "metadata": {},
   "outputs": [
    {
     "name": "stdout",
     "output_type": "stream",
     "text": [
      "Enter lines of text (press Enter after each line, type 'done' to finish):\n"
     ]
    },
    {
     "name": "stdin",
     "output_type": "stream",
     "text": [
      " helloo\n",
      " done\n"
     ]
    },
    {
     "name": "stdout",
     "output_type": "stream",
     "text": [
      "HELLOO\n"
     ]
    }
   ],
   "source": [
    "def capitalize_lines(lines):\n",
    "    \n",
    "    capitalized_lines = [line.upper() for line in lines]\n",
    "    return capitalized_lines\n",
    "\n",
    "\n",
    "def main():\n",
    "    lines = []\n",
    "    print(\"Enter lines of text (press Enter after each line, type 'done' to finish):\")\n",
    "    while True:\n",
    "        line = input()\n",
    "        if line.lower() == 'done':\n",
    "            break\n",
    "        lines.append(line)\n",
    "\n",
    "    capitalized_lines = capitalize_lines(lines)\n",
    "    for line in capitalized_lines:\n",
    "        print(line)\n",
    "\n",
    "\n",
    "if __name__ == \"__main__\":\n",
    "    main()"
   ]
  },
  {
   "cell_type": "markdown",
   "id": "4314102e-427f-4583-8cc9-4694ed456d23",
   "metadata": {},
   "source": [
    "# Question10:\n",
    "Write a program that accepts a sequence of whitespace separated words as input\n",
    "and prints the words after removing all duplicate words and sorting them\n",
    "alphanumerically.\n",
    "##### Suppose the following input is supplied to the program:\n",
    "hello world and practice makes perfect and hello world again\n",
    "##### Then, the output should be:\n",
    "again and hello makes perfect practice world\n",
    "\n",
    "### Hints:\n",
    "In case of input data being supplied to the question, it should be assumed to be a\n",
    "console input.We use set container to remove duplicated data automatically and\n",
    "then use sorted() to sort the data"
   ]
  },
  {
   "cell_type": "code",
   "execution_count": 13,
   "id": "847fa025-3b29-4963-a43d-cdecf184908c",
   "metadata": {},
   "outputs": [
    {
     "name": "stdin",
     "output_type": "stream",
     "text": [
      "Enter a sequence of whitespace separated words:  ad ggh\n"
     ]
    },
    {
     "name": "stdout",
     "output_type": "stream",
     "text": [
      "ad ggh\n"
     ]
    }
   ],
   "source": [
    "def remove_duplicates_and_sort(sentence):\n",
    "    words = sentence.split()\n",
    "    unique_words = sorted(set(words))\n",
    "    return ' '.join(unique_words)\n",
    "\n",
    "def main():\n",
    "    input_sentence = input(\"Enter a sequence of whitespace separated words: \")\n",
    "    result = remove_duplicates_and_sort(input_sentence)\n",
    "    print(result)\n",
    "\n",
    "if __name__ == \"__main__\":\n",
    "    main()"
   ]
  },
  {
   "cell_type": "markdown",
   "id": "75136f04-ad1a-4855-a753-9266f48c2332",
   "metadata": {},
   "source": [
    "# Question11:\n",
    "Write a program which accepts a sequence of comma separated 4 digit binary\n",
    "numbers as its input and then check whether they are divisible by 5 or not. The\n",
    "numbers that are divisible by 5 are to be printed in a comma separated sequence.\n",
    "##### Example:\n",
    "0100,0011,1010,1001\n",
    "##### Then the output should be:\n",
    "1010\n",
    "#### Notes: Assume the data is input by console.\n",
    "\n",
    "### Hints:\n",
    "\n",
    "In case of input data being supplied to the question, it should be assumed to be a\n",
    "console input."
   ]
  },
  {
   "cell_type": "code",
   "execution_count": 22,
   "id": "8c3f115a-41e5-4d0f-b3e5-fb586aa0b15e",
   "metadata": {},
   "outputs": [
    {
     "name": "stdin",
     "output_type": "stream",
     "text": [
      "Enter comma-separated 4 digit binary numbers:  0100,0011,1010,1001\n"
     ]
    },
    {
     "name": "stdout",
     "output_type": "stream",
     "text": [
      "Numbers divisible by 5: 1010\n"
     ]
    }
   ],
   "source": [
    "def check_divisible_by_5(binary_sequence):\n",
    "    numbers = binary_sequence.split(',')\n",
    "    divisible_by_5 = []\n",
    "\n",
    "    for num in numbers:\n",
    "        decimal = int(num, 2)\n",
    "        if decimal % 5 == 0:\n",
    "            divisible_by_5.append(num)\n",
    "\n",
    "    return ','.join(divisible_by_5)\n",
    "\n",
    "if __name__ == \"__main__\":\n",
    "    binary_input = input(\"Enter comma-separated 4 digit binary numbers: \")\n",
    "    result = check_divisible_by_5(binary_input)\n",
    "    print(\"Numbers divisible by 5:\", result)\n"
   ]
  },
  {
   "cell_type": "markdown",
   "id": "f285372f-ae03-4673-9038-35982a39122c",
   "metadata": {},
   "source": [
    "# Question12:\n",
    "Write a program, which will find all such numbers between 1000 and 3000 (both\n",
    "included) such that each digit of the number is an even number.The numbers\n",
    "obtained should be printed in a comma-separated sequence on a single line.\n",
    "### Hints:\n",
    "In case of input data being supplied to the question, it should be assumed to be a\n",
    "console input."
   ]
  },
  {
   "cell_type": "code",
   "execution_count": 15,
   "id": "bd7e7a6e-b0e9-492f-82bb-f8a9802ed06c",
   "metadata": {},
   "outputs": [
    {
     "name": "stdout",
     "output_type": "stream",
     "text": [
      "1000,1002,1004,1006,1008,1010,1012,1014,1016,1018,1020,1022,1024,1026,1028,1030,1032,1034,1036,1038,1040,1042,1044,1046,1048,1050,1052,1054,1056,1058,1060,1062,1064,1066,1068,1070,1072,1074,1076,1078,1080,1082,1084,1086,1088,1090,1092,1094,1096,1098,1100,1102,1104,1106,1108,1110,1112,1114,1116,1118,1120,1122,1124,1126,1128,1130,1132,1134,1136,1138,1140,1142,1144,1146,1148,1150,1152,1154,1156,1158,1160,1162,1164,1166,1168,1170,1172,1174,1176,1178,1180,1182,1184,1186,1188,1190,1192,1194,1196,1198,1200,1202,1204,1206,1208,1210,1212,1214,1216,1218,1220,1222,1224,1226,1228,1230,1232,1234,1236,1238,1240,1242,1244,1246,1248,1250,1252,1254,1256,1258,1260,1262,1264,1266,1268,1270,1272,1274,1276,1278,1280,1282,1284,1286,1288,1290,1292,1294,1296,1298,1300,1302,1304,1306,1308,1310,1312,1314,1316,1318,1320,1322,1324,1326,1328,1330,1332,1334,1336,1338,1340,1342,1344,1346,1348,1350,1352,1354,1356,1358,1360,1362,1364,1366,1368,1370,1372,1374,1376,1378,1380,1382,1384,1386,1388,1390,1392,1394,1396,1398,1400,1402,1404,1406,1408,1410,1412,1414,1416,1418,1420,1422,1424,1426,1428,1430,1432,1434,1436,1438,1440,1442,1444,1446,1448,1450,1452,1454,1456,1458,1460,1462,1464,1466,1468,1470,1472,1474,1476,1478,1480,1482,1484,1486,1488,1490,1492,1494,1496,1498,1500,1502,1504,1506,1508,1510,1512,1514,1516,1518,1520,1522,1524,1526,1528,1530,1532,1534,1536,1538,1540,1542,1544,1546,1548,1550,1552,1554,1556,1558,1560,1562,1564,1566,1568,1570,1572,1574,1576,1578,1580,1582,1584,1586,1588,1590,1592,1594,1596,1598,1600,1602,1604,1606,1608,1610,1612,1614,1616,1618,1620,1622,1624,1626,1628,1630,1632,1634,1636,1638,1640,1642,1644,1646,1648,1650,1652,1654,1656,1658,1660,1662,1664,1666,1668,1670,1672,1674,1676,1678,1680,1682,1684,1686,1688,1690,1692,1694,1696,1698,1700,1702,1704,1706,1708,1710,1712,1714,1716,1718,1720,1722,1724,1726,1728,1730,1732,1734,1736,1738,1740,1742,1744,1746,1748,1750,1752,1754,1756,1758,1760,1762,1764,1766,1768,1770,1772,1774,1776,1778,1780,1782,1784,1786,1788,1790,1792,1794,1796,1798,1800,1802,1804,1806,1808,1810,1812,1814,1816,1818,1820,1822,1824,1826,1828,1830,1832,1834,1836,1838,1840,1842,1844,1846,1848,1850,1852,1854,1856,1858,1860,1862,1864,1866,1868,1870,1872,1874,1876,1878,1880,1882,1884,1886,1888,1890,1892,1894,1896,1898,1900,1902,1904,1906,1908,1910,1912,1914,1916,1918,1920,1922,1924,1926,1928,1930,1932,1934,1936,1938,1940,1942,1944,1946,1948,1950,1952,1954,1956,1958,1960,1962,1964,1966,1968,1970,1972,1974,1976,1978,1980,1982,1984,1986,1988,1990,1992,1994,1996,1998,2000,2002,2004,2006,2008,2010,2012,2014,2016,2018,2020,2022,2024,2026,2028,2030,2032,2034,2036,2038,2040,2042,2044,2046,2048,2050,2052,2054,2056,2058,2060,2062,2064,2066,2068,2070,2072,2074,2076,2078,2080,2082,2084,2086,2088,2090,2092,2094,2096,2098,2100,2102,2104,2106,2108,2110,2112,2114,2116,2118,2120,2122,2124,2126,2128,2130,2132,2134,2136,2138,2140,2142,2144,2146,2148,2150,2152,2154,2156,2158,2160,2162,2164,2166,2168,2170,2172,2174,2176,2178,2180,2182,2184,2186,2188,2190,2192,2194,2196,2198,2200,2202,2204,2206,2208,2210,2212,2214,2216,2218,2220,2222,2224,2226,2228,2230,2232,2234,2236,2238,2240,2242,2244,2246,2248,2250,2252,2254,2256,2258,2260,2262,2264,2266,2268,2270,2272,2274,2276,2278,2280,2282,2284,2286,2288,2290,2292,2294,2296,2298,2300,2302,2304,2306,2308,2310,2312,2314,2316,2318,2320,2322,2324,2326,2328,2330,2332,2334,2336,2338,2340,2342,2344,2346,2348,2350,2352,2354,2356,2358,2360,2362,2364,2366,2368,2370,2372,2374,2376,2378,2380,2382,2384,2386,2388,2390,2392,2394,2396,2398,2400,2402,2404,2406,2408,2410,2412,2414,2416,2418,2420,2422,2424,2426,2428,2430,2432,2434,2436,2438,2440,2442,2444,2446,2448,2450,2452,2454,2456,2458,2460,2462,2464,2466,2468,2470,2472,2474,2476,2478,2480,2482,2484,2486,2488,2490,2492,2494,2496,2498,2500,2502,2504,2506,2508,2510,2512,2514,2516,2518,2520,2522,2524,2526,2528,2530,2532,2534,2536,2538,2540,2542,2544,2546,2548,2550,2552,2554,2556,2558,2560,2562,2564,2566,2568,2570,2572,2574,2576,2578,2580,2582,2584,2586,2588,2590,2592,2594,2596,2598,2600,2602,2604,2606,2608,2610,2612,2614,2616,2618,2620,2622,2624,2626,2628,2630,2632,2634,2636,2638,2640,2642,2644,2646,2648,2650,2652,2654,2656,2658,2660,2662,2664,2666,2668,2670,2672,2674,2676,2678,2680,2682,2684,2686,2688,2690,2692,2694,2696,2698,2700,2702,2704,2706,2708,2710,2712,2714,2716,2718,2720,2722,2724,2726,2728,2730,2732,2734,2736,2738,2740,2742,2744,2746,2748,2750,2752,2754,2756,2758,2760,2762,2764,2766,2768,2770,2772,2774,2776,2778,2780,2782,2784,2786,2788,2790,2792,2794,2796,2798,2800,2802,2804,2806,2808,2810,2812,2814,2816,2818,2820,2822,2824,2826,2828,2830,2832,2834,2836,2838,2840,2842,2844,2846,2848,2850,2852,2854,2856,2858,2860,2862,2864,2866,2868,2870,2872,2874,2876,2878,2880,2882,2884,2886,2888,2890,2892,2894,2896,2898,2900,2902,2904,2906,2908,2910,2912,2914,2916,2918,2920,2922,2924,2926,2928,2930,2932,2934,2936,2938,2940,2942,2944,2946,2948,2950,2952,2954,2956,2958,2960,2962,2964,2966,2968,2970,2972,2974,2976,2978,2980,2982,2984,2986,2988,2990,2992,2994,2996,2998,3000\n"
     ]
    }
   ],
   "source": [
    "even_numbers = [str(num) for num in range(1000, 3001) if num % 2 == 0]\n",
    "result = ','.join(even_numbers)\n",
    "print(result)"
   ]
  },
  {
   "cell_type": "markdown",
   "id": "dc839e8d-6d7e-4c01-92a1-19e3297f627d",
   "metadata": {},
   "source": [
    "# Question13:\n",
    "Write a program that accepts a sentence and calculate the number of letters and\n",
    "digits.\n",
    "##### Suppose the following input is supplied to the program:\n",
    "hello world! 123\n",
    "##### Then, the output should be:\n",
    "LETTERS 10\n",
    "DIGITS 3\n",
    "\n",
    "### Hints:\n",
    "In case of input data being supplied to the question, it should be assumed to be a\n",
    "console input."
   ]
  },
  {
   "cell_type": "code",
   "execution_count": 16,
   "id": "cfd7a7ec-a010-4043-aa9d-fbc12a3d84a0",
   "metadata": {},
   "outputs": [
    {
     "name": "stdin",
     "output_type": "stream",
     "text": [
      "Enter a sentence:  ia ajsna 121\n"
     ]
    },
    {
     "name": "stdout",
     "output_type": "stream",
     "text": [
      "Number of letters: 7\n",
      "Number of digits: 3\n"
     ]
    }
   ],
   "source": [
    "def count_letters_and_digits(sentence):\n",
    "    letter_count = 0\n",
    "    digit_count = 0\n",
    "\n",
    "    for char in sentence:\n",
    "        if char.isalpha():\n",
    "            letter_count += 1\n",
    "        elif char.isdigit():\n",
    "            digit_count += 1\n",
    "\n",
    "    return letter_count, digit_count\n",
    "\n",
    "if __name__ == \"__main__\":\n",
    "    sentence = input(\"Enter a sentence: \")\n",
    "    letters, digits = count_letters_and_digits(sentence)\n",
    "    print(\"Number of letters:\", letters)\n",
    "    print(\"Number of digits:\", digits)\n"
   ]
  },
  {
   "cell_type": "markdown",
   "id": "01ce4c97-5f7b-4df3-a1a9-886c546bf602",
   "metadata": {},
   "source": [
    "# Question:14\n",
    "Write a program that accepts a sentence and calculate the number of upper case\n",
    "letters and lower case letters.\n",
    "##### Suppose the following input is supplied to the program:\n",
    "\n",
    "Hello world!\n",
    "##### Then, the output should be:\n",
    "UPPER CASE 1\n",
    "LOWER CASE 9\n",
    "\n",
    "### Hints:\n",
    "In case of input data being supplied to the question, it should be assumed to be a\n",
    "console input."
   ]
  },
  {
   "cell_type": "code",
   "execution_count": 17,
   "id": "42e192db-e356-45f1-8986-d02f31855e19",
   "metadata": {},
   "outputs": [
    {
     "name": "stdin",
     "output_type": "stream",
     "text": [
      "Enter a sentence:  Hello world\n"
     ]
    },
    {
     "name": "stdout",
     "output_type": "stream",
     "text": [
      "Number of upper case letters: 1\n",
      "Number of lower case letters: 9\n"
     ]
    }
   ],
   "source": [
    "def count_upper_lower(sentence):\n",
    "    upper_count = 0\n",
    "    lower_count = 0\n",
    "\n",
    "    for char in sentence:\n",
    "        if char.isupper():\n",
    "            upper_count += 1\n",
    "        elif char.islower():\n",
    "            lower_count += 1\n",
    "\n",
    "    return upper_count, lower_count\n",
    "\n",
    "if __name__ == \"__main__\":\n",
    "    sentence = input(\"Enter a sentence: \")\n",
    "    upper, lower = count_upper_lower(sentence)\n",
    "    print(\"Number of upper case letters:\", upper)\n",
    "    print(\"Number of lower case letters:\", lower)"
   ]
  },
  {
   "cell_type": "markdown",
   "id": "d0cccdb0-6199-4863-b775-b0cd0742f936",
   "metadata": {},
   "source": [
    "# Question15:\n",
    "Write a program that computes the value of a+aa+aaa+aaaa with a given digit as\n",
    "the value of a.\n",
    "##### Suppose the following input is supplied to the program:\n",
    "9\n",
    "##### Then, the output should be:\n",
    "11106\n",
    "\n",
    "### Hints:\n",
    "In case of input data being supplied to the question, it should be assumed to be a\n",
    "console input."
   ]
  },
  {
   "cell_type": "code",
   "execution_count": 18,
   "id": "071b8e01-4ffa-4a15-90df-f5793ca2d48e",
   "metadata": {},
   "outputs": [
    {
     "name": "stdin",
     "output_type": "stream",
     "text": [
      "Enter a digit:  9\n"
     ]
    },
    {
     "name": "stdout",
     "output_type": "stream",
     "text": [
      "Result: 11106\n"
     ]
    }
   ],
   "source": [
    "def compute_value(a):\n",
    "    total = int(a) + int(a*2) + int(a*3) + int(a*4)\n",
    "    return total\n",
    "\n",
    "if __name__ == \"__main__\":\n",
    "    a = input(\"Enter a digit: \")\n",
    "    result = compute_value(a)\n",
    "    print(\"Result:\", result)"
   ]
  },
  {
   "cell_type": "markdown",
   "id": "d3f2bf6a-46d1-43b1-829f-837d8d2f07b8",
   "metadata": {},
   "source": [
    "# Question16:\n",
    "Use a list comprehension to square each odd number in a list. The list is input by\n",
    "a sequence of comma-separated numbers.\n",
    "##### >Suppose the following input is supplied to the program:\n",
    "1,2,3,4,5,6,7,8,9\n",
    "##### Then, the output should be:\n",
    "\n",
    "1,9,25,49,81\n",
    "\n",
    "### Hints:\n",
    "In case of input data being supplied to the question, it should be assumed to be a\n",
    "console input."
   ]
  },
  {
   "cell_type": "code",
   "execution_count": 19,
   "id": "cde41588-0339-4e1e-800f-176fb06b0517",
   "metadata": {},
   "outputs": [
    {
     "name": "stdin",
     "output_type": "stream",
     "text": [
      "Enter a sequence of comma-separated numbers:  1,2,3,4,5,6,7,8,9\n"
     ]
    },
    {
     "name": "stdout",
     "output_type": "stream",
     "text": [
      "1,9,25,49,81\n"
     ]
    }
   ],
   "source": [
    "input_string = input(\"Enter a sequence of comma-separated numbers: \")\n",
    "numbers = input_string.split(',')\n",
    "numbers = [int(num) for num in numbers]   \n",
    "squared_odds = [num**2 for num in numbers if num % 2 != 0]\n",
    "print(','.join(map(str, squared_odds)))"
   ]
  },
  {
   "cell_type": "markdown",
   "id": "c5def666-8601-4dd1-a6ec-8208e7a3d080",
   "metadata": {},
   "source": [
    "# Question17:\n",
    "Write a program that computes the net amount of a bank account based a\n",
    "transaction log from console input. The transaction log format is shown as\n",
    "following:\n",
    "D 100\n",
    "W 200\n",
    " D means deposit while W means withdrawal.\n",
    "##### Suppose the following input is supplied to the program:\n",
    "D 300\n",
    "D 300\n",
    "W 200\n",
    "D 100\n",
    "##### Then, the output should be:\n",
    "500\n",
    "\n",
    "### Hints:\n",
    "In case of input data being supplied to the question, it should be assumed to be a\n",
    "console input."
   ]
  },
  {
   "cell_type": "code",
   "execution_count": 21,
   "id": "8e22e87d-64c1-4728-9be7-4cfab70e561b",
   "metadata": {},
   "outputs": [
    {
     "name": "stdin",
     "output_type": "stream",
     "text": [
      "Enter transaction (D/W amount) or 'done' to finish: D 300\n",
      "Enter transaction (D/W amount) or 'done' to finish: D 300\n",
      "Enter transaction (D/W amount) or 'done' to finish: W 200\n",
      "Enter transaction (D/W amount) or 'done' to finish: D 100\n",
      "Enter transaction (D/W amount) or 'done' to finish: done\n"
     ]
    },
    {
     "name": "stdout",
     "output_type": "stream",
     "text": [
      "500\n"
     ]
    }
   ],
   "source": [
    "net_amount = 0\n",
    "\n",
    "while True:\n",
    "    transaction = input(\"Enter transaction (D/W amount) or 'done' to finish:\")\n",
    "    if transaction.lower() == 'done':\n",
    "        break\n",
    "    transaction_type, amount = transaction.split()\n",
    "    if transaction_type == 'D':\n",
    "        net_amount += int(amount)\n",
    "    elif transaction_type == 'W':\n",
    "        net_amount -= int(amount)\n",
    "\n",
    "print(net_amount)"
   ]
  },
  {
   "cell_type": "markdown",
   "id": "bfa4095f-e808-4a74-9f83-f043b3a29498",
   "metadata": {},
   "source": [
    "# Question18:\n",
    "A website requires the users to input username and password to register. Write a\n",
    "program to check the validity of password input by users.\n",
    "##### Following are the criteria for checking the password:\n",
    "\n",
    " At least 1 letter between [a-z]\n",
    " At least 1 number between [0-9]\n",
    " At least 1 letter between [A-Z]\n",
    " At least 1 character from [$#@]\n",
    " Minimum length of transaction password: 6\n",
    " Maximum length of transaction password: 12\n",
    "Your program should accept a sequence of comma separated passwords and will\n",
    "check them according to the above criteria. Passwords that match the criteria are\n",
    "to be printed, each separated by a comma.\n",
    "### Example\n",
    "##### If the following passwords are given as input to the program:\n",
    "ABd1234@1,a F1#,2w3E*,2We3345\n",
    "##### Then, the output of the program should be:\n",
    "ABd1234@1\n",
    "\n",
    "### Hints:\n",
    "In case of input data being supplied to the question, it should be assumed to be a\n",
    "console input."
   ]
  },
  {
   "cell_type": "code",
   "execution_count": 23,
   "id": "c094a9e5-5334-4d14-a925-60f2b7202b4f",
   "metadata": {},
   "outputs": [
    {
     "name": "stdin",
     "output_type": "stream",
     "text": [
      "Enter comma seperated passwords: ABd1234@1,a F1#,2w3E*,2We3345\n"
     ]
    },
    {
     "name": "stdout",
     "output_type": "stream",
     "text": [
      "Valid passwords are:\n",
      "ABd1234@1\n"
     ]
    }
   ],
   "source": [
    "import re\n",
    "\n",
    "def is_valid_password(password):\n",
    "    if len(password) < 6 or len(password) > 12:\n",
    "        return False\n",
    "    if not re.search(\"[a-z]\", password):\n",
    "        return False\n",
    "    if not re.search(\"[A-Z]\", password):\n",
    "        return False\n",
    "    if not re.search(\"[0-9]\", password):\n",
    "        return False\n",
    "    if not re.search(\"[$#@]\", password):\n",
    "        return False\n",
    "    return True\n",
    "\n",
    "passwords_input = input(\"Enter comma seperated passwords:\")\n",
    "passwords = passwords_input.split(',')\n",
    "valid_passwords = [password for password in passwords if is_valid_password(password)]\n",
    "print(\"Valid passwords are:\")\n",
    "output = ','.join(valid_passwords)\n",
    "print(output)\n"
   ]
  },
  {
   "cell_type": "markdown",
   "id": "bc49db80-cb51-40c2-85f3-af648fc3ad73",
   "metadata": {},
   "source": [
    "# Question19:\n",
    "You are required to write a program to sort the (name, age, score) tuples by\n",
    "ascending order where name is string, age and score are numbers. The tuples\n",
    "are input by console. The sort criteria is:\n",
    " 1: Sort based on name\n",
    " 2: Then sort based on age\n",
    " 3: Then sort by score\n",
    "The priority is that name > age > score.\n",
    "##### If the following tuples are given as input to the program:\n",
    "Tom,19,80\n",
    "\n",
    "John,20,90\n",
    "Jony,17,91\n",
    "Jony,17,93\n",
    "Json,21,85\n",
    "##### Then, the output of the program should be:\n",
    "[('John', '20', '90'), ('Jony', '17', '91'), ('Jony', '17', '93'), ('Json', '21', '85'), ('Tom',\n",
    "'19', '80')]\n",
    "\n",
    "### Hints:\n",
    "In case of input data being supplied to the question, it should be assumed to be a\n",
    "console input.We use itemgetter to enable multiple sort keys."
   ]
  },
  {
   "cell_type": "code",
   "execution_count": 24,
   "id": "c169552e-5040-4c0d-9f30-cd607d754a4c",
   "metadata": {},
   "outputs": [
    {
     "name": "stdin",
     "output_type": "stream",
     "text": [
      "Enter tuples (name, age, score):  John,20,90 Jony,17,91 Jony,17,93 Json,21,85\n"
     ]
    },
    {
     "name": "stdout",
     "output_type": "stream",
     "text": [
      "[('John', '20', '90'), ('Jony', '17', '91'), ('Jony', '17', '93'), ('Json', '21', '85')]\n"
     ]
    }
   ],
   "source": [
    "from operator import itemgetter\n",
    "tuples_input = input(\"Enter tuples (name, age, score): \")\n",
    "tuples_list = [tuple(item.split(',')) for item in tuples_input.split()]\n",
    "sorted_tuples = sorted(tuples_list, key=itemgetter(0, 1, 2))\n",
    "print(sorted_tuples)"
   ]
  },
  {
   "cell_type": "markdown",
   "id": "00067bdb-b786-43f9-9d6b-03c2a2050c05",
   "metadata": {},
   "source": [
    "# Question20:\n",
    "Define a class with a generator which can iterate the numbers, which are\n",
    "divisible by 7, between a given range 0 and n.\n",
    "##### Suppose the following input is supplied to the program:\n",
    "7\n",
    "##### Then, the output should be:\n",
    "0\n",
    "7\n",
    "14\n",
    "\n",
    "### Hints:\n",
    "Consider use class, function and comprehension."
   ]
  },
  {
   "cell_type": "code",
   "execution_count": 26,
   "id": "a650c890-da3a-4cea-bf69-52a6a9bc64ff",
   "metadata": {},
   "outputs": [
    {
     "name": "stdin",
     "output_type": "stream",
     "text": [
      "Enter a number:  14\n"
     ]
    },
    {
     "name": "stdout",
     "output_type": "stream",
     "text": [
      "0\n",
      "7\n",
      "14\n"
     ]
    }
   ],
   "source": [
    "class DivisibleBySeven:\n",
    "    def __init__(self, n):\n",
    "        self.n = n\n",
    "\n",
    "    def generate_numbers(self):\n",
    "        for i in range(self.n + 1):\n",
    "            if i % 7 == 0:\n",
    "                yield i\n",
    "n = int(input(\"Enter a number: \"))\n",
    "div_by_seven = DivisibleBySeven(n)\n",
    "for num in div_by_seven.generate_numbers():\n",
    "    print(num)\n"
   ]
  },
  {
   "cell_type": "markdown",
   "id": "defeed19-8347-4125-bb0e-44bcd36990dc",
   "metadata": {},
   "source": [
    "# Question21:\n",
    "A robot moves in a plane starting from the original point (0,0). The robot can\n",
    "move toward UP, DOWN, LEFT and RIGHT with a given steps. The trace of\n",
    "robot movement is shown as the following:\n",
    "##### INPUT\n",
    "UP 5\n",
    "DOWN 3\n",
    "LEFT 3\n",
    "RIGHT 2\n",
    "The numbers after the direction are steps. Please write a program to compute the\n",
    "distance from current position after a sequence of movement and original point.\n",
    "If the distance is a float, then just print the nearest integer. Example: If the\n",
    "following tuples are given as input to the program:\n",
    "UP 5\n",
    "DOWN 3\n",
    "LEFT 3\n",
    "RIGHT 2\n",
    "##### Then, the output of the program should be:\n",
    "2\n",
    "\n",
    "### Hints:\n",
    "In case of input data being supplied to the question, it should be assumed to be a\n",
    "console input.Here distance indicates to euclidean distance.Import math module\n",
    "to use sqrt function."
   ]
  },
  {
   "cell_type": "code",
   "execution_count": 9,
   "id": "9ca2d0c3-020b-4ab0-a820-d89e48865a3b",
   "metadata": {},
   "outputs": [
    {
     "name": "stdout",
     "output_type": "stream",
     "text": [
      "2\n"
     ]
    }
   ],
   "source": [
    "import math\n",
    "\n",
    "def calculate_distance_from_origin(movements):\n",
    "    x, y = 0, 0\n",
    "    \n",
    "    for move in movements:\n",
    "        direction, steps = move.split()\n",
    "        steps = int(steps)\n",
    "        \n",
    "        if direction == 'UP':\n",
    "            y += steps\n",
    "        elif direction == 'DOWN':\n",
    "            y -= steps\n",
    "        elif direction == 'LEFT':\n",
    "            x -= steps\n",
    "        elif direction == 'RIGHT':\n",
    "            x += steps\n",
    "    distance = math.sqrt(x**2 + y**2)\n",
    "    rounded_distance = round(distance)\n",
    "    return rounded_distance\n",
    "if __name__ == \"__main__\":\n",
    "    movements = [\n",
    "        \"UP 5\",\n",
    "        \"DOWN 3\",\n",
    "        \"LEFT 3\",\n",
    "        \"RIGHT 2\"\n",
    "    ]\n",
    "    \n",
    "    distance = calculate_distance_from_origin(movements)\n",
    "    print(distance)"
   ]
  },
  {
   "cell_type": "markdown",
   "id": "af0b7dee-6e45-4cc6-a636-1e851a164bc4",
   "metadata": {},
   "source": [
    "# Question22:\n",
    "Write a program to compute the frequency of the words from the input. The\n",
    "output should output after sorting the key alphanumerically.\n",
    "#### Suppose the following input is supplied to the program:\n",
    "New to Python or choosing between Python 2 and Python 3? Read Python 2 or\n",
    "Python 3.\n",
    "#### Then, the output should be:\n",
    "2:2\n",
    "3.:1\n",
    "3?:1\n",
    "\n",
    "New:1\n",
    "Python:5\n",
    "Read:1\n",
    "and:1\n",
    "between:1\n",
    "choosing:1\n",
    "or:2\n",
    "to:1\n",
    "\n",
    "### Hints\n",
    "In case of input data being supplied to the question, it should be assumed to be a\n",
    "console input."
   ]
  },
  {
   "cell_type": "code",
   "execution_count": 29,
   "id": "4e202986-921d-4b3b-9be7-fe0513f9606e",
   "metadata": {},
   "outputs": [
    {
     "name": "stdin",
     "output_type": "stream",
     "text": [
      "Enter the text:  New to Python or choosing between Python 2 and Python 3? Read Python 2 or Python 3.\n"
     ]
    },
    {
     "name": "stdout",
     "output_type": "stream",
     "text": [
      "2:2\n",
      "3.:1\n",
      "3?:1\n",
      "New:1\n",
      "Python:5\n",
      "Read:1\n",
      "and:1\n",
      "between:1\n",
      "choosing:1\n",
      "or:2\n",
      "to:1\n"
     ]
    }
   ],
   "source": [
    "def word_frequency(input_text):\n",
    "    words = input_text.split()\n",
    "    frequency = {}\n",
    "\n",
    "    for word in words:\n",
    "        frequency[word] = frequency.get(word, 0) + 1\n",
    "\n",
    "    sorted_keys = sorted(frequency.keys())\n",
    "    for key in sorted_keys:\n",
    "        print(f\"{key}:{frequency[key]}\")\n",
    "\n",
    "input_text = input(\"Enter the text: \")\n",
    "word_frequency(input_text)"
   ]
  },
  {
   "cell_type": "markdown",
   "id": "a663c009-9fee-4236-95ab-bf6387683d65",
   "metadata": {},
   "source": [
    "# Question23:\n",
    "Write a method which can calculate square value of number\n",
    "\n",
    "### Hints:\n",
    "Using the ** operator which can be written as n**p where means n^p"
   ]
  },
  {
   "cell_type": "code",
   "execution_count": 30,
   "id": "f94970a7-9345-45e3-b7ca-1e78a48e9d1b",
   "metadata": {},
   "outputs": [
    {
     "name": "stdin",
     "output_type": "stream",
     "text": [
      "Enter a number:  23\n"
     ]
    },
    {
     "name": "stdout",
     "output_type": "stream",
     "text": [
      "Square of 23.0 is 529.0\n"
     ]
    }
   ],
   "source": [
    "def calculate_square(number):\n",
    "    return number ** 2\n",
    "\n",
    "# Example usage:\n",
    "number = float(input(\"Enter a number: \"))\n",
    "print(\"Square of\", number, \"is\", calculate_square(number))"
   ]
  },
  {
   "cell_type": "markdown",
   "id": "bc186238-3a07-4df8-bc99-391b0434e18f",
   "metadata": {},
   "source": [
    "# Question24:\n",
    "Python has many built-in functions, and if you do not know how to use it, you\n",
    "can read document online or find some books. But Python has a built-in\n",
    "document function for every built-in functions.\n",
    "Please write a program to print some Python built-in functions documents, such\n",
    "as abs(), int(), raw_input()\n",
    "And add document for your own function\n",
    "### Hints:\n",
    "The built-in document method is __doc__\n",
    "\n",
    "Define a class, which have a class parameter and have a same instance\n",
    "parameter.\n",
    "\n",
    "### Hints:\n",
    "Define an instance parameter, need add it in __init__ method.You can init an\n",
    "object with construct parameter or set the value later"
   ]
  },
  {
   "cell_type": "code",
   "execution_count": 31,
   "id": "516618c8-5b43-404b-924d-7977b8ea8b13",
   "metadata": {},
   "outputs": [
    {
     "name": "stdout",
     "output_type": "stream",
     "text": [
      "Documentation for abs():\n",
      "Return the absolute value of the argument.\n",
      "\n",
      "Documentation for int():\n",
      "int([x]) -> integer\n",
      "int(x, base=10) -> integer\n",
      "\n",
      "Convert a number or string to an integer, or return 0 if no arguments\n",
      "are given.  If x is a number, return x.__int__().  For floating point\n",
      "numbers, this truncates towards zero.\n",
      "\n",
      "If x is not a number or if base is given, then x must be a string,\n",
      "bytes, or bytearray instance representing an integer literal in the\n",
      "given base.  The literal can be preceded by '+' or '-' and be surrounded\n",
      "by whitespace.  The base defaults to 10.  Valid bases are 0 and 2-36.\n",
      "Base 0 means to interpret the base from the string as an integer literal.\n",
      ">>> int('0b100', base=0)\n",
      "4\n",
      "\n",
      "Documentation for input():\n",
      "Forward raw_input to frontends\n",
      "\n",
      "        Raises\n",
      "        ------\n",
      "        StdinNotImplementedError if active frontend doesn't support stdin.\n",
      "        \n",
      "\n",
      "Documentation for calculate_square():\n",
      "\n",
      "    This function calculates the square of a given number.\n",
      "\n",
      "    Parameters:\n",
      "    number (int or float): The number whose square is to be calculated.\n",
      "\n",
      "    Returns:\n",
      "    int or float: The square of the input number.\n",
      "    \n"
     ]
    }
   ],
   "source": [
    "def calculate_square(number):\n",
    "    \"\"\"\n",
    "    This function calculates the square of a given number.\n",
    "\n",
    "    Parameters:\n",
    "    number (int or float): The number whose square is to be calculated.\n",
    "\n",
    "    Returns:\n",
    "    int or float: The square of the input number.\n",
    "    \"\"\"\n",
    "    return number ** 2\n",
    "\n",
    "print(\"Documentation for abs():\")\n",
    "print(abs.__doc__)\n",
    "print()\n",
    "\n",
    "print(\"Documentation for int():\")\n",
    "print(int.__doc__)\n",
    "print()\n",
    "\n",
    "print(\"Documentation for input():\")\n",
    "print(input.__doc__)\n",
    "print()\n",
    "print(\"Documentation for calculate_square():\")\n",
    "print(calculate_square.__doc__)"
   ]
  },
  {
   "cell_type": "markdown",
   "id": "48b6606d-f726-45bf-ae3c-8d7a232180ec",
   "metadata": {},
   "source": [
    "# Question25:\n",
    "Define a function which can compute the sum of two numbers.\n",
    "\n",
    "### Hints:\n",
    "Define a function with two numbers as arguments. You can compute the sum in\n",
    "the function and return the value."
   ]
  },
  {
   "cell_type": "code",
   "execution_count": 32,
   "id": "5d3f8e25-7d57-4b90-a4d0-c03e84fb3d12",
   "metadata": {},
   "outputs": [
    {
     "name": "stdin",
     "output_type": "stream",
     "text": [
      "Enter the first number:  1212\n",
      "Enter the second number:  231\n"
     ]
    },
    {
     "name": "stdout",
     "output_type": "stream",
     "text": [
      "Sum of 1212.0 and 231.0 is 1443.0\n"
     ]
    }
   ],
   "source": [
    "def compute_sum(num1, num2):\n",
    "    return num1 + num2\n",
    "\n",
    "num1 = float(input(\"Enter the first number: \"))\n",
    "num2 = float(input(\"Enter the second number: \"))\n",
    "print(\"Sum of\", num1, \"and\", num2, \"is\", compute_sum(num1, num2))\n"
   ]
  },
  {
   "cell_type": "markdown",
   "id": "03eff8c1-28a5-4f84-a62b-4ef269cd04b7",
   "metadata": {},
   "source": [
    "# Question26:\n",
    "Define a function that can convert a integer into a string and print it in console.\n",
    "\n",
    "### Hints:\n",
    "Use str() to convert a number to string."
   ]
  },
  {
   "cell_type": "code",
   "execution_count": 33,
   "id": "46e3a187-b42e-41b5-bf9d-1e5c94619138",
   "metadata": {},
   "outputs": [
    {
     "name": "stdin",
     "output_type": "stream",
     "text": [
      "Enter an integer:  232\n"
     ]
    },
    {
     "name": "stdout",
     "output_type": "stream",
     "text": [
      "232\n"
     ]
    }
   ],
   "source": [
    "def convert_and_print(num):\n",
    "    print(str(num))\n",
    "\n",
    "number = int(input(\"Enter an integer: \"))\n",
    "convert_and_print(number)"
   ]
  },
  {
   "cell_type": "markdown",
   "id": "bc1ea640-f872-4d55-a7df-8160baf8609c",
   "metadata": {},
   "source": [
    "# Question27:\n",
    "Define a function that can receive two integer numbers in string form and\n",
    "compute their sum and then print it in console.\n",
    "\n",
    "### Hints:\n",
    "Use int() to convert a string to integer."
   ]
  },
  {
   "cell_type": "code",
   "execution_count": 34,
   "id": "f38d869f-7c78-4f17-afc9-660ad73c24e8",
   "metadata": {},
   "outputs": [
    {
     "name": "stdin",
     "output_type": "stream",
     "text": [
      "Enter the first integer:  212\n",
      "Enter the second integer:  2323\n"
     ]
    },
    {
     "name": "stdout",
     "output_type": "stream",
     "text": [
      "2535\n"
     ]
    }
   ],
   "source": [
    "def compute_and_print_sum(num1_str, num2_str):\n",
    "    num1 = int(num1_str)\n",
    "    num2 = int(num2_str)\n",
    "    print(num1 + num2)\n",
    "\n",
    "num1_str = input(\"Enter the first integer: \")\n",
    "num2_str = input(\"Enter the second integer: \")\n",
    "compute_and_print_sum(num1_str, num2_str)"
   ]
  },
  {
   "cell_type": "markdown",
   "id": "75878fe0-973c-4a2f-a417-2f27369457f8",
   "metadata": {},
   "source": [
    "# Question28:\n",
    "Define a function that can accept two strings as input and concatenate them and\n",
    "then print it in console.\n",
    "\n",
    "###  Hints:\n",
    "Use + sign to concatenate the strings."
   ]
  },
  {
   "cell_type": "code",
   "execution_count": 35,
   "id": "76863cda-5d3d-4752-be64-65316e65ad0d",
   "metadata": {},
   "outputs": [
    {
     "name": "stdin",
     "output_type": "stream",
     "text": [
      "Enter the first string:  2\n",
      "Enter the second string:  3\n"
     ]
    },
    {
     "name": "stdout",
     "output_type": "stream",
     "text": [
      "23\n"
     ]
    }
   ],
   "source": [
    "def concatenate_and_print(str1, str2):\n",
    "    print(str1 + str2)\n",
    "\n",
    "string1 = input(\"Enter the first string: \")\n",
    "string2 = input(\"Enter the second string: \")\n",
    "concatenate_and_print(string1, string2)"
   ]
  },
  {
   "cell_type": "markdown",
   "id": "51344cf6-3076-41e5-bee9-7a1bc227c1a9",
   "metadata": {},
   "source": [
    "# Question29:\n",
    "Define a function that can accept two strings as input and print the string with\n",
    "maximum length in console. If two strings have the same length, then the\n",
    "function should print all strings line by line.\n",
    "\n",
    "### Hints:\n",
    "Use len() function to get the length of a string."
   ]
  },
  {
   "cell_type": "code",
   "execution_count": 36,
   "id": "5279b221-91f7-4bad-ac09-cab673f6e97d",
   "metadata": {},
   "outputs": [
    {
     "name": "stdin",
     "output_type": "stream",
     "text": [
      "Enter the first string:  2\n",
      "Enter the second string:  23\n"
     ]
    },
    {
     "name": "stdout",
     "output_type": "stream",
     "text": [
      "23\n"
     ]
    }
   ],
   "source": [
    "def print_longest_string(str1, str2):\n",
    "    len_str1 = len(str1)\n",
    "    len_str2 = len(str2)\n",
    "\n",
    "    if len_str1 > len_str2:\n",
    "        print(str1)\n",
    "    elif len_str2 > len_str1:\n",
    "        print(str2)\n",
    "    else:\n",
    "        print(str1)\n",
    "        print(str2)\n",
    "\n",
    "string1 = input(\"Enter the first string: \")\n",
    "string2 = input(\"Enter the second string: \")\n",
    "print_longest_string(string1, string2)"
   ]
  },
  {
   "cell_type": "markdown",
   "id": "92768b26-4f5e-4a2e-a87b-cc662d5deda2",
   "metadata": {},
   "source": [
    "# Question30:\n",
    "Define a function which can print a dictionary where the keys are numbers\n",
    "between 1 and 20 (both included) and the values are square of keys.\n",
    "\n",
    "### Hints:\n",
    "Use dict[key]=value pattern to put entry into a dictionary.Use ** operator to get\n",
    "power of a number.Use range() for loops."
   ]
  },
  {
   "cell_type": "code",
   "execution_count": 37,
   "id": "b1520baf-7b60-471c-9ee1-23b459ecb3eb",
   "metadata": {},
   "outputs": [
    {
     "name": "stdout",
     "output_type": "stream",
     "text": [
      "{1: 1, 2: 4, 3: 9, 4: 16, 5: 25, 6: 36, 7: 49, 8: 64, 9: 81, 10: 100, 11: 121, 12: 144, 13: 169, 14: 196, 15: 225, 16: 256, 17: 289, 18: 324, 19: 361, 20: 400}\n"
     ]
    }
   ],
   "source": [
    "def print_squared_dict():\n",
    "    squared_dict = {}\n",
    "    for num in range(1, 21):\n",
    "        squared_dict[num] = num ** 2\n",
    "    print(squared_dict)\n",
    "print_squared_dict()"
   ]
  },
  {
   "cell_type": "markdown",
   "id": "90c8f0eb-f09c-4347-8274-7ed83e814a71",
   "metadata": {},
   "source": [
    "# Question31:\n",
    "Define a function which can generate a dictionary where the keys are numbers\n",
    "between 1 and 20 (both included) and the values are square of keys. The\n",
    "function should just print the keys only.\n",
    "\n",
    "### Hints:\n",
    "Use dict[key]=value pattern to put entry into a dictionary.Use ** operator to get\n",
    "power of a number.Use range() for loops.Use keys() to iterate keys in the\n",
    "dictionary. Also we can use item() to get key/value pairs."
   ]
  },
  {
   "cell_type": "code",
   "execution_count": 38,
   "id": "247cf073-c9f3-4690-a267-dbf6a0ac068e",
   "metadata": {},
   "outputs": [
    {
     "name": "stdout",
     "output_type": "stream",
     "text": [
      "Key: 1, Squared Value: 1\n",
      "Key: 2, Squared Value: 4\n",
      "Key: 3, Squared Value: 9\n",
      "Key: 4, Squared Value: 16\n",
      "Key: 5, Squared Value: 25\n",
      "Key: 6, Squared Value: 36\n",
      "Key: 7, Squared Value: 49\n",
      "Key: 8, Squared Value: 64\n",
      "Key: 9, Squared Value: 81\n",
      "Key: 10, Squared Value: 100\n",
      "Key: 11, Squared Value: 121\n",
      "Key: 12, Squared Value: 144\n",
      "Key: 13, Squared Value: 169\n",
      "Key: 14, Squared Value: 196\n",
      "Key: 15, Squared Value: 225\n",
      "Key: 16, Squared Value: 256\n",
      "Key: 17, Squared Value: 289\n",
      "Key: 18, Squared Value: 324\n",
      "Key: 19, Squared Value: 361\n",
      "Key: 20, Squared Value: 400\n"
     ]
    }
   ],
   "source": [
    "def print_keys_and_squared_values():\n",
    "    squared_dict = {}\n",
    "    for num in range(1, 21):\n",
    "        squared_dict[num] = num ** 2\n",
    "    for key, value in squared_dict.items():\n",
    "        print(f\"Key: {key}, Squared Value: {value}\")\n",
    "print_keys_and_squared_values()"
   ]
  },
  {
   "cell_type": "markdown",
   "id": "8b4080dc-a562-4034-87d4-bd5f620f2bed",
   "metadata": {},
   "source": [
    "# Question32:\n",
    "Define a function which can generate and print a list where the values are\n",
    "square of numbers between 1 and 20 (both included).\n",
    "\n",
    "### Hints:\n",
    "Use ** operator to get power of a number.Use range() for loops.Use list.append()\n",
    "to add values into a list"
   ]
  },
  {
   "cell_type": "code",
   "execution_count": 39,
   "id": "db64c28b-e7fc-4c1b-a22b-2c4cfa2242d1",
   "metadata": {},
   "outputs": [
    {
     "name": "stdout",
     "output_type": "stream",
     "text": [
      "[1, 4, 9, 16, 25, 36, 49, 64, 81, 100, 121, 144, 169, 196, 225, 256, 289, 324, 361, 400]\n"
     ]
    }
   ],
   "source": [
    "def print_squared_list():\n",
    "    squared_list = []\n",
    "    for num in range(1, 21):\n",
    "        squared_list.append(num ** 2)\n",
    "    print(squared_list)\n",
    "print_squared_list()"
   ]
  },
  {
   "cell_type": "markdown",
   "id": "a133e03b-5ae7-4467-b180-ae42628589dd",
   "metadata": {},
   "source": [
    "# Question:33\n",
    "Define a function which can generate a list where the values are square of\n",
    "numbers between 1 and 20 (both included). Then the function needs to print the\n",
    "first 5 elements in the list.\n",
    "\n",
    "### Hints:\n",
    "Use ** operator to get power of a number.Use range() for loops.Use list.append()\n",
    "to add values into a list.Use [n1:n2] to slice a list"
   ]
  },
  {
   "cell_type": "code",
   "execution_count": 1,
   "id": "dff067f9-e375-479f-8ee3-bbae5f74d9e5",
   "metadata": {},
   "outputs": [
    {
     "name": "stdout",
     "output_type": "stream",
     "text": [
      "[1, 4, 9, 16, 25]\n"
     ]
    }
   ],
   "source": [
    "def generate_square_list():\n",
    "    square_list = []\n",
    "    for num in range(1, 21):\n",
    "        square_list.append(num ** 2)\n",
    "    print(square_list[:5])\n",
    "\n",
    "generate_square_list()"
   ]
  },
  {
   "cell_type": "markdown",
   "id": "29e3c89a-7f06-404f-8693-2422922c64a8",
   "metadata": {},
   "source": [
    "# Question:34\n",
    "Define a function which can generate a list where the values are square of\n",
    "numbers between 1 and 20 (both included). Then the function needs to print the\n",
    "last 5 elements in the list.\n",
    "\n",
    "### Hints:\n",
    "\n",
    "Use ** operator to get power of a number.Use range() for loops.Use list.append()\n",
    "to add values into a list.Use [n1:n2] to slice a list"
   ]
  },
  {
   "cell_type": "code",
   "execution_count": 2,
   "id": "da696530-f3c8-4787-a72c-5975e602b34e",
   "metadata": {},
   "outputs": [
    {
     "name": "stdout",
     "output_type": "stream",
     "text": [
      "Last 5 elements in the list: [256, 289, 324, 361, 400]\n"
     ]
    }
   ],
   "source": [
    "def generate_and_print():\n",
    "    squares_list = []\n",
    "    for i in range(1, 21):\n",
    "        squares_list.append(i ** 2)\n",
    "    print(\"Last 5 elements in the list:\", squares_list[-5:])\n",
    "\n",
    "generate_and_print()"
   ]
  },
  {
   "cell_type": "markdown",
   "id": "a6782c53-05ff-42a0-8398-500a70d5f896",
   "metadata": {},
   "source": [
    "# Question:35\n",
    "Define a function which can generate a list where the values are square of\n",
    "numbers between 1 and 20 (both included). Then the function needs to print all\n",
    "values except the first 5 elements in the list.\n",
    "\n",
    "### Hints:\n",
    "Use ** operator to get power of a number.Use range() for loops.Use\n",
    "\n",
    "list.append() to add values into a list.Use [n1:n2] to slice a list"
   ]
  },
  {
   "cell_type": "code",
   "execution_count": 3,
   "id": "6fc70d22-8312-4069-bd17-4d4003d70e43",
   "metadata": {},
   "outputs": [
    {
     "name": "stdout",
     "output_type": "stream",
     "text": [
      "Values except the first 5 elements in the list: [36, 49, 64, 81, 100, 121, 144, 169, 196, 225, 256, 289, 324, 361, 400]\n"
     ]
    }
   ],
   "source": [
    "def generate_and_print():\n",
    "    squares_list = []\n",
    "    for i in range(1, 21):\n",
    "        squares_list.append(i ** 2)\n",
    "    print(\"Values except the first 5 elements in the list:\", squares_list[5:])\n",
    "\n",
    "generate_and_print()"
   ]
  },
  {
   "cell_type": "markdown",
   "id": "4927fc9f-99a8-4699-8cde-2eebd18e0c57",
   "metadata": {},
   "source": [
    "# Question:36\n",
    "Define a function which can generate and print a tuple where the value are\n",
    "square of numbers between 1 and 20 (both included).\n",
    "\n",
    "### Hints:\n",
    "Use ** operator to get power of a number.Use range() for loops.Use list.append()\n",
    "to add values into a list.Use tuple() to get a tuple from a list."
   ]
  },
  {
   "cell_type": "code",
   "execution_count": 4,
   "id": "98ef3d28-3785-4286-ab89-ca1f3f5804a3",
   "metadata": {},
   "outputs": [
    {
     "name": "stdout",
     "output_type": "stream",
     "text": [
      "Tuple of squares of numbers between 1 and 20: (1, 4, 9, 16, 25, 36, 49, 64, 81, 100, 121, 144, 169, 196, 225, 256, 289, 324, 361, 400)\n"
     ]
    }
   ],
   "source": [
    "def generate_and_print_tuple():\n",
    "    squares_tuple = tuple(i ** 2 for i in range(1, 21))\n",
    "    print(\"Tuple of squares of numbers between 1 and 20:\", squares_tuple)\n",
    "\n",
    "generate_and_print_tuple()"
   ]
  },
  {
   "cell_type": "markdown",
   "id": "d789f02d-e449-4bc3-a5cf-aa1f0447360c",
   "metadata": {},
   "source": [
    "# Question:37\n",
    "With a given tuple (1,2,3,4,5,6,7,8,9,10), write a program to print the first half\n",
    "values in one line and the last half values in one line.\n",
    "\n",
    "### Hints:\n",
    "Use [n1:n2] notation to get a slice from a tuple."
   ]
  },
  {
   "cell_type": "code",
   "execution_count": 5,
   "id": "f10f395a-0f3f-4598-a3d1-907d55d6e7a4",
   "metadata": {},
   "outputs": [
    {
     "name": "stdout",
     "output_type": "stream",
     "text": [
      "First half values: (1, 2, 3, 4, 5)\n",
      "Last half values: (6, 7, 8, 9, 10)\n"
     ]
    }
   ],
   "source": [
    "given_tuple = (1, 2, 3, 4, 5, 6, 7, 8, 9, 10)\n",
    "\n",
    "length = len(given_tuple)\n",
    "midpoint = length // 2\n",
    "\n",
    "print(\"First half values:\", given_tuple[:midpoint])\n",
    "print(\"Last half values:\", given_tuple[midpoint:])"
   ]
  },
  {
   "cell_type": "markdown",
   "id": "5c5feeee-68ef-499d-b7d4-5eaa32893620",
   "metadata": {},
   "source": [
    "# Question:38\n",
    "Write a program to generate and print another tuple whose values are even\n",
    "numbers in the given tuple (1,2,3,4,5,6,7,8,9,10).\n",
    "\n",
    "### Hints:\n",
    "Use \"for\" to iterate the tuple. Use tuple() to generate a tuple from a list."
   ]
  },
  {
   "cell_type": "code",
   "execution_count": 6,
   "id": "1c5bae18-a63a-4d09-b6a1-04de1323ecde",
   "metadata": {},
   "outputs": [
    {
     "name": "stdout",
     "output_type": "stream",
     "text": [
      "Tuple of even numbers: (2, 4, 6, 8, 10)\n"
     ]
    }
   ],
   "source": [
    "given_tuple = (1, 2, 3, 4, 5, 6, 7, 8, 9, 10)\n",
    "\n",
    "even_numbers = []\n",
    "for num in given_tuple:\n",
    "    if num % 2 == 0:\n",
    "        even_numbers.append(num)\n",
    "\n",
    "even_tuple = tuple(even_numbers)\n",
    "print(\"Tuple of even numbers:\", even_tuple)"
   ]
  },
  {
   "cell_type": "markdown",
   "id": "80138914-feaa-4f15-bfc8-f758440addae",
   "metadata": {},
   "source": [
    "# Question:39\n",
    "Write a program which accepts a string as input to print \"Yes\" if the string is\n",
    "\"yes\" or \"YES\" or \"Yes\", otherwise print \"No\".\n",
    "\n",
    "### Hints:\n",
    "Use if statement to judge condition."
   ]
  },
  {
   "cell_type": "code",
   "execution_count": 7,
   "id": "64b6aeae-38b0-4ade-a848-e94634cfbf92",
   "metadata": {},
   "outputs": [
    {
     "name": "stdin",
     "output_type": "stream",
     "text": [
      "Enter a string:  yes\n"
     ]
    },
    {
     "name": "stdout",
     "output_type": "stream",
     "text": [
      "Yes\n"
     ]
    }
   ],
   "source": [
    "def check_input(input_string):\n",
    "    if input_string.lower() == \"yes\":\n",
    "        print(\"Yes\")\n",
    "    else:\n",
    "        print(\"No\")\n",
    "\n",
    "user_input = input(\"Enter a string: \")\n",
    "check_input(user_input)"
   ]
  },
  {
   "cell_type": "markdown",
   "id": "7ac43d44-1be3-4157-a3c9-081568810ebe",
   "metadata": {},
   "source": [
    "# Question:40\n",
    "Write a program which can map() to make a list whose elements are square of\n",
    "elements in [1,2,3,4,5,6,7,8,9,10].\n",
    "\n",
    "### Hints:\n",
    "Use map() to generate a list.Use lambda to define anonymous functions."
   ]
  },
  {
   "cell_type": "code",
   "execution_count": 8,
   "id": "9ac338da-137a-4d92-837b-8eeb6c944a73",
   "metadata": {},
   "outputs": [
    {
     "name": "stdout",
     "output_type": "stream",
     "text": [
      "List of squares: [1, 4, 9, 16, 25, 36, 49, 64, 81, 100]\n"
     ]
    }
   ],
   "source": [
    "numbers = [1, 2, 3, 4, 5, 6, 7, 8, 9, 10]\n",
    "\n",
    "squares_list = list(map(lambda x: x ** 2, numbers))\n",
    "print(\"List of squares:\", squares_list)"
   ]
  },
  {
   "cell_type": "markdown",
   "id": "9180dd37-b27c-4960-9e3d-e982b87376fe",
   "metadata": {},
   "source": [
    "# Question:41\n",
    "Write a program which can map() and filter() to make a list whose elements are\n",
    "square of even number in [1,2,3,4,5,6,7,8,9,10].\n",
    "\n",
    "### Hints:\n",
    "Use map() to generate a list.Use filter() to filter elements of a list.Use lambda to\n",
    "define anonymous functions."
   ]
  },
  {
   "cell_type": "code",
   "execution_count": 9,
   "id": "a966178f-6c53-4282-8017-c9f6d8cf953e",
   "metadata": {},
   "outputs": [
    {
     "name": "stdout",
     "output_type": "stream",
     "text": [
      "List of squares of even numbers: [4, 16, 36, 64, 100]\n"
     ]
    }
   ],
   "source": [
    "numbers = [1, 2, 3, 4, 5, 6, 7, 8, 9, 10]\n",
    "\n",
    "even_numbers = filter(lambda x: x % 2 == 0, numbers)\n",
    "squares_of_evens = map(lambda x: x ** 2, even_numbers)\n",
    "result_list = list(squares_of_evens)\n",
    "\n",
    "print(\"List of squares of even numbers:\", result_list)"
   ]
  },
  {
   "cell_type": "markdown",
   "id": "042949db-52ee-478b-9cc3-8faa13af2bb9",
   "metadata": {},
   "source": [
    "# Question:42\n",
    "\n",
    "Write a program which can filter() to make a list whose elements are even\n",
    "number between 1 and 20 (both included).\n",
    "### Hints:\n",
    "Use filter() to filter elements of a list.Use lambda to define anonymous functions."
   ]
  },
  {
   "cell_type": "code",
   "execution_count": 10,
   "id": "414cdd32-1f4c-49f4-b40d-884a50321c37",
   "metadata": {},
   "outputs": [
    {
     "name": "stdout",
     "output_type": "stream",
     "text": [
      "List of even numbers between 1 and 20: [2, 4, 6, 8, 10, 12, 14, 16, 18, 20]\n"
     ]
    }
   ],
   "source": [
    "even_numbers = list(filter(lambda x: x % 2 == 0, range(1, 21)))\n",
    "print(\"List of even numbers between 1 and 20:\", even_numbers)"
   ]
  },
  {
   "cell_type": "markdown",
   "id": "86e70abc-7824-4120-bdc1-b186298279df",
   "metadata": {},
   "source": [
    "# Question:43\n",
    "Write a program which can map() to make a list whose elements are square of\n",
    "numbers between 1 and 20 (both included).\n",
    "\n",
    "### Hints:\n",
    "Use map() to generate a list. Use lambda to define anonymous functions."
   ]
  },
  {
   "cell_type": "code",
   "execution_count": 11,
   "id": "931a4dfb-b92c-4b39-ab20-484066971763",
   "metadata": {},
   "outputs": [
    {
     "name": "stdout",
     "output_type": "stream",
     "text": [
      "List of squares of numbers between 1 and 20: [1, 4, 9, 16, 25, 36, 49, 64, 81, 100, 121, 144, 169, 196, 225, 256, 289, 324, 361, 400]\n"
     ]
    }
   ],
   "source": [
    "squares_list = list(map(lambda x: x ** 2, range(1, 21)))\n",
    "print(\"List of squares of numbers between 1 and 20:\", squares_list)"
   ]
  },
  {
   "cell_type": "markdown",
   "id": "c3734ad7-a39e-4c3a-8d3a-d355590afc14",
   "metadata": {},
   "source": [
    "# Question:44\n",
    "Define a class named American which has a static method called\n",
    "printNationality.\n",
    "\n",
    "### Hints:\n",
    "Use @staticmethod decorator to define class static method"
   ]
  },
  {
   "cell_type": "code",
   "execution_count": 12,
   "id": "d4f3d079-9fcc-49ae-9787-2771a11a4ea9",
   "metadata": {},
   "outputs": [
    {
     "name": "stdout",
     "output_type": "stream",
     "text": [
      "I am American\n"
     ]
    }
   ],
   "source": [
    "class American:\n",
    "    @staticmethod\n",
    "    def printNationality():\n",
    "        print(\"I am American\")\n",
    "American.printNationality()"
   ]
  },
  {
   "cell_type": "markdown",
   "id": "9b20e660-89a6-4503-9c4d-77966668e988",
   "metadata": {},
   "source": [
    "# Question:45\n",
    "Define a class named American and its subclass NewYorker.\n",
    "\n",
    "### Hints:\n",
    "Use class Subclass(ParentClass) to define a subclass.*"
   ]
  },
  {
   "cell_type": "code",
   "execution_count": 13,
   "id": "441b7885-3094-44ea-bd6c-8a134f06a779",
   "metadata": {},
   "outputs": [],
   "source": [
    "class American:\n",
    "    pass\n",
    "\n",
    "class NewYorker(American):\n",
    "    pass"
   ]
  },
  {
   "cell_type": "markdown",
   "id": "5ed373d3-16e5-47c2-8508-e9a6830986a8",
   "metadata": {},
   "source": [
    "# Question:46\n",
    "Define a class named Circle which can be constructed by a radius. The Circle\n",
    "class has a method which can compute the area.\n",
    "\n",
    "### Hints\n",
    "Use def methodName(self) to define a method."
   ]
  },
  {
   "cell_type": "code",
   "execution_count": 14,
   "id": "4aabfe0f-517a-4cb5-813e-42632d4489d0",
   "metadata": {},
   "outputs": [
    {
     "name": "stdin",
     "output_type": "stream",
     "text": [
      "Enter the radius of the circle:  212\n"
     ]
    },
    {
     "name": "stdout",
     "output_type": "stream",
     "text": [
      "Area of the circle with radius 212.0 is: 141195.62096\n"
     ]
    }
   ],
   "source": [
    "class Circle:\n",
    "    def __init__(self, radius):\n",
    "        self.radius = radius\n",
    "\n",
    "    def compute_area(self):\n",
    "        return 3.14159 * self.radius ** 2\n",
    "\n",
    "radius = float(input(\"Enter the radius of the circle: \"))\n",
    "circle = Circle(radius)\n",
    "area = circle.compute_area()\n",
    "print(\"Area of the circle with radius\", radius, \"is:\", area)"
   ]
  },
  {
   "cell_type": "markdown",
   "id": "837aee00-69ab-47f9-b8c0-2fa90f66226e",
   "metadata": {},
   "source": [
    "# Question47:\n",
    "Define a class named Rectangle which can be constructed by a length and width.\n",
    "The Rectangle class has a method which can compute the area.\n",
    "\n",
    "###  Hints\n",
    "Use def methodName(self) to define a method."
   ]
  },
  {
   "cell_type": "code",
   "execution_count": 15,
   "id": "48f903ac-8846-49f2-8b4d-ddd0077676b6",
   "metadata": {},
   "outputs": [
    {
     "name": "stdin",
     "output_type": "stream",
     "text": [
      "Enter the length of the rectangle:  232\n",
      "Enter the width of the rectangle:  23\n"
     ]
    },
    {
     "name": "stdout",
     "output_type": "stream",
     "text": [
      "Area of the rectangle with length 232.0 and width 23.0 is: 5336.0\n"
     ]
    }
   ],
   "source": [
    "class Rectangle:\n",
    "    def __init__(self, length, width):\n",
    "        self.length = length\n",
    "        self.width = width\n",
    "\n",
    "    def compute_area(self):\n",
    "        return self.length * self.width\n",
    "\n",
    "length = float(input(\"Enter the length of the rectangle: \"))\n",
    "width = float(input(\"Enter the width of the rectangle: \"))\n",
    "\n",
    "rectangle = Rectangle(length, width)\n",
    "area = rectangle.compute_area()\n",
    "\n",
    "print(\"Area of the rectangle with length\", length, \"and width\", width, \"is:\", area)"
   ]
  },
  {
   "cell_type": "markdown",
   "id": "761285b7-4cb3-406f-8bf8-2cb846a8381d",
   "metadata": {},
   "source": [
    "# Question48:\n",
    "Define a class named Shape and its subclass Square. The Square class has an\n",
    "init function which takes a length as argument. Both classes have a area\n",
    "function which can print the area of the shape where Shape's area is 0 by\n",
    "default.\n",
    "\n",
    "### Hints\n",
    "To override a method in super class, we can define a method with the same name\n",
    "in the super class."
   ]
  },
  {
   "cell_type": "code",
   "execution_count": 16,
   "id": "8b7377ec-f99e-48ea-8c96-ac5abafa07c2",
   "metadata": {},
   "outputs": [
    {
     "name": "stdin",
     "output_type": "stream",
     "text": [
      "Enter the length of the square:  12\n"
     ]
    },
    {
     "name": "stdout",
     "output_type": "stream",
     "text": [
      "Area of the square: 144.0\n"
     ]
    }
   ],
   "source": [
    "class Shape:\n",
    "    def __init__(self):\n",
    "        pass\n",
    "\n",
    "    def area(self):\n",
    "        return 0\n",
    "\n",
    "class Square(Shape):\n",
    "    def __init__(self, length):\n",
    "        self.length = length\n",
    "\n",
    "    def area(self):\n",
    "        return self.length ** 2\n",
    "\n",
    "length = float(input(\"Enter the length of the square: \"))\n",
    "square = Square(length)\n",
    "print(\"Area of the square:\", square.area())"
   ]
  },
  {
   "cell_type": "markdown",
   "id": "a77953e5-fb18-4c70-b753-7f64598ed501",
   "metadata": {},
   "source": [
    "# Question49:\n",
    "Please raise a RuntimeError exception.\n",
    "\n",
    "### Hints\n",
    "UUse raise() to raise an exception."
   ]
  },
  {
   "cell_type": "code",
   "execution_count": 18,
   "id": "ca0181a5-1aa7-4a1c-8441-745c31ba023e",
   "metadata": {},
   "outputs": [
    {
     "ename": "RuntimeError",
     "evalue": "This is a runtime error.",
     "output_type": "error",
     "traceback": [
      "\u001b[1;31m---------------------------------------------------------------------------\u001b[0m",
      "\u001b[1;31mRuntimeError\u001b[0m                              Traceback (most recent call last)",
      "Cell \u001b[1;32mIn[18], line 1\u001b[0m\n\u001b[1;32m----> 1\u001b[0m \u001b[38;5;28;01mraise\u001b[39;00m \u001b[38;5;167;01mRuntimeError\u001b[39;00m(\u001b[38;5;124m\"\u001b[39m\u001b[38;5;124mThis is a runtime error.\u001b[39m\u001b[38;5;124m\"\u001b[39m)\n",
      "\u001b[1;31mRuntimeError\u001b[0m: This is a runtime error."
     ]
    }
   ],
   "source": [
    "raise RuntimeError(\"This is a runtime error.\")"
   ]
  },
  {
   "cell_type": "markdown",
   "id": "30eecb1f-af40-4b58-af16-8da307cfc34e",
   "metadata": {},
   "source": [
    "# Question50:\n",
    "Write a function to compute 5/0 and use try/except to catch the exceptions.\n",
    "\n",
    "### Hints\n",
    "Use try/except to catch exceptions."
   ]
  },
  {
   "cell_type": "code",
   "execution_count": 19,
   "id": "26b1ccf5-63ae-4bf4-bdee-648ac30bfe8d",
   "metadata": {},
   "outputs": [
    {
     "name": "stdout",
     "output_type": "stream",
     "text": [
      "Error: Division by zero!\n"
     ]
    }
   ],
   "source": [
    "def compute_division():\n",
    "    try:\n",
    "        result = 5 / 0\n",
    "        print(\"Result of division:\", result)\n",
    "    except ZeroDivisionError:\n",
    "        print(\"Error: Division by zero!\")\n",
    "\n",
    "compute_division()"
   ]
  },
  {
   "cell_type": "markdown",
   "id": "06c6adec-2a93-4422-a7d4-b01340063e27",
   "metadata": {},
   "source": [
    "# Question51:\n",
    "Define a custom exception class which takes a string message as attribute.\n",
    "\n",
    "### Hints\n",
    "To define a custom exception, we need to define a class inherited from\n",
    "Exception."
   ]
  },
  {
   "cell_type": "code",
   "execution_count": 21,
   "id": "7f5441d8-0219-4926-9b6f-5989e53a7e37",
   "metadata": {},
   "outputs": [
    {
     "name": "stdout",
     "output_type": "stream",
     "text": [
      "Caught an exception: This is a custom error message\n"
     ]
    }
   ],
   "source": [
    "class CustomException(Exception):\n",
    "    def __init__(self, message):\n",
    "        super().__init__(message)\n",
    "        self.message = message\n",
    "\n",
    "    def __str__(self):\n",
    "        return self.message\n",
    "\n",
    "try:\n",
    "    raise CustomException(\"This is a custom error message\")\n",
    "except CustomException as e:\n",
    "    print(f\"Caught an exception: {e}\")"
   ]
  },
  {
   "cell_type": "markdown",
   "id": "884f0e11-dcc6-46e5-80cf-d8373264340a",
   "metadata": {},
   "source": [
    "# Question52:\n",
    "Assuming that we have some email addresses in the\n",
    "\"username@companyname.com\" format, please write program to print the user\n",
    "name of a given email address. Both user names and company names are\n",
    "composed of letters only.\n",
    "###### Example: If the following email address is given as input to the program:\n",
    "john@google.com\n",
    "###### Then, the output of the program should be:\n",
    "john\n",
    "###### In case of input data being supplied to the question, it should be assumed to be a console input.\n",
    "\n",
    "### Hints\n",
    "Use \\w to match letters."
   ]
  },
  {
   "cell_type": "code",
   "execution_count": 23,
   "id": "890b45f8-0603-4e31-808f-1c18f926925f",
   "metadata": {},
   "outputs": [
    {
     "name": "stdin",
     "output_type": "stream",
     "text": [
      "Enter an email address:  UAziz2424@gmail.com\n"
     ]
    },
    {
     "name": "stdout",
     "output_type": "stream",
     "text": [
      "Username: UAziz2424\n"
     ]
    }
   ],
   "source": [
    "import re\n",
    "\n",
    "def extract_username(email):\n",
    "    pattern = r'^(\\w+)@(\\w+)\\.com$'\n",
    "    match = re.match(pattern, email)\n",
    "    if match:\n",
    "        return match.group(1)\n",
    "    else:\n",
    "        return \"Invalid email format\"\n",
    "\n",
    "email_address = input(\"Enter an email address: \")\n",
    "username = extract_username(email_address)\n",
    "print(\"Username:\", username)"
   ]
  },
  {
   "cell_type": "markdown",
   "id": "466d5349-b6cf-4139-ae25-4079541699f5",
   "metadata": {},
   "source": [
    "# Question53:\n",
    "Assuming that we have some email addresses in the\n",
    "\"username@companyname.com\" format, please write program to print the\n",
    "company name of a given email address. Both user names and company names\n",
    "are composed of letters only.\n",
    "###### Example: If the following email address is given as input to the program:\n",
    "john@google.com\n",
    "###### Then, the output of the program should be:\n",
    "google\n",
    "###### In case of input data being supplied to the question, it should be assumed to be a console input.\n",
    "\n",
    "### Hints\n",
    "Use \\w to match letters."
   ]
  },
  {
   "cell_type": "code",
   "execution_count": 24,
   "id": "c093a5ff-a57c-46ea-8fad-ee7f1e0fbb0c",
   "metadata": {},
   "outputs": [
    {
     "name": "stdin",
     "output_type": "stream",
     "text": [
      "Enter an email address:  john@google.com\n"
     ]
    },
    {
     "name": "stdout",
     "output_type": "stream",
     "text": [
      "Company name: google\n"
     ]
    }
   ],
   "source": [
    "import re\n",
    "\n",
    "def extract_company(email):\n",
    "    pattern = r'^\\w+@(\\w+)\\.com$'\n",
    "    match = re.match(pattern, email)\n",
    "    if match:\n",
    "        return match.group(1)\n",
    "    else:\n",
    "        return \"Invalid email format\"\n",
    "\n",
    "email_address = input(\"Enter an email address: \")\n",
    "company_name = extract_company(email_address)\n",
    "print(\"Company name:\", company_name)"
   ]
  },
  {
   "cell_type": "markdown",
   "id": "09f9840c-09aa-46a3-a868-2246a0881391",
   "metadata": {},
   "source": [
    "# Question54:\n",
    "Write a program which accepts a sequence of words separated by whitespace as\n",
    "input to print the words composed of digits only.\n",
    "###### Example: If the following words is given as input to the program: 2 cats and 3 dogs.\n",
    "###### Then, the output of the program should be:\n",
    "['2', '3']\n",
    "\n",
    "###### In case of input data being supplied to the question, it should be assumed to be a console input.\n",
    "\n",
    "### Hints\n",
    "Use re.findall() to find all substring using regex."
   ]
  },
  {
   "cell_type": "code",
   "execution_count": 26,
   "id": "b4207771-c882-4f0f-b2a1-618dbb1f2491",
   "metadata": {},
   "outputs": [
    {
     "name": "stdin",
     "output_type": "stream",
     "text": [
      "Enter a sequence of words:  2 cats and 3 dogs.\n"
     ]
    },
    {
     "name": "stdout",
     "output_type": "stream",
     "text": [
      "Words composed of digits only: ['2', '3']\n"
     ]
    }
   ],
   "source": [
    "import re\n",
    "\n",
    "def find_digit_words(input_text):\n",
    "    pattern = r'\\b\\d+\\b'\n",
    "    digit_words = re.findall(pattern, input_text)\n",
    "    return digit_words\n",
    "\n",
    "input_text = input(\"Enter a sequence of words: \")\n",
    "result = find_digit_words(input_text)\n",
    "print(\"Words composed of digits only:\", result)"
   ]
  },
  {
   "cell_type": "markdown",
   "id": "2909e5b4-6eb8-4e2c-8629-7eb50359061e",
   "metadata": {},
   "source": [
    "# Question55:\n",
    "Print a unicode string \"hello world\".\n",
    "\n",
    "### Hints\n",
    "Use u'strings' format to define unicode string."
   ]
  },
  {
   "cell_type": "code",
   "execution_count": 27,
   "id": "1cb9c0db-fae9-4714-aae9-8724315d7400",
   "metadata": {},
   "outputs": [
    {
     "name": "stdout",
     "output_type": "stream",
     "text": [
      "hello world\n"
     ]
    }
   ],
   "source": [
    "unicode_string = u'hello world'\n",
    "print(unicode_string)"
   ]
  },
  {
   "cell_type": "markdown",
   "id": "603649ca-3967-408e-b580-548384b32625",
   "metadata": {},
   "source": [
    "# Question56:\n",
    "Write a program to read an ASCII string and to convert it to a unicode string\n",
    "encoded by utf-8.\n",
    "\n",
    "### Hints\n",
    "Use unicode()/encode() function to convert."
   ]
  },
  {
   "cell_type": "code",
   "execution_count": 28,
   "id": "5ae348e1-5bab-40ca-86b7-19a1034dd101",
   "metadata": {},
   "outputs": [
    {
     "name": "stdin",
     "output_type": "stream",
     "text": [
      "Enter an ASCII string:  usman\n"
     ]
    },
    {
     "name": "stdout",
     "output_type": "stream",
     "text": [
      "UTF-8 encoded string: b'usman'\n"
     ]
    }
   ],
   "source": [
    "def ascii_to_utf8():\n",
    "    ascii_str = input(\"Enter an ASCII string: \")\n",
    "    utf8_str = ascii_str.encode('utf-8')\n",
    "    print(\"UTF-8 encoded string:\", utf8_str)\n",
    "    return utf8_str\n",
    "if __name__ == \"__main__\":\n",
    "    utf8_string = ascii_to_utf8()"
   ]
  },
  {
   "cell_type": "markdown",
   "id": "ab362ff5-440b-40e2-b2aa-410eda3477db",
   "metadata": {},
   "source": [
    "# Question57:\n",
    "Write a special comment to indicate a Python source code file is in unicode.\n",
    "\n",
    "### Hints\n",
    "Use unicode() function to convert."
   ]
  },
  {
   "cell_type": "code",
   "execution_count": 12,
   "id": "5ac8465a-e23d-4d94-a368-a70d67665357",
   "metadata": {},
   "outputs": [],
   "source": [
    "# coding: utf-8           OR\n",
    " # -*- coding: utf-8 -*-\n"
   ]
  },
  {
   "cell_type": "markdown",
   "id": "3d006219-f858-4ed4-a7b4-951dbbaeffae",
   "metadata": {},
   "source": [
    "# Question58:\n",
    "Write a program to compute 1/2+2/3+3/4+...+n/n+1 with a given n input by\n",
    "console (n>0).\n",
    "###### Example: If the following n is given as input to the program:\n",
    "5\n",
    "###### Then, the output of the program should be:\n",
    "3.55\n",
    "###### In case of input data being supplied to the question, it should be assumed to be a console input.\n",
    "\n",
    "### Hints\n",
    "Use float() to convert an integer to a float.Even if not converted it wont cause a\n",
    "problem because python by default understands the data type of a value"
   ]
  },
  {
   "cell_type": "code",
   "execution_count": 30,
   "id": "8eb9d525-00fa-441d-a5ca-5307478e0c3c",
   "metadata": {},
   "outputs": [
    {
     "name": "stdin",
     "output_type": "stream",
     "text": [
      "Enter the value of n:  5\n"
     ]
    },
    {
     "name": "stdout",
     "output_type": "stream",
     "text": [
      "Sum of the series: 3.55\n"
     ]
    }
   ],
   "source": [
    "def compute_series(n):\n",
    "    result = 0.0\n",
    "    for i in range(1, n + 1):\n",
    "        result += float(i) / float(i + 1)\n",
    "    return round(result, 2)\n",
    "\n",
    "if __name__ == \"__main__\":\n",
    "    n = int(input(\"Enter the value of n: \"))\n",
    "    if n > 0:\n",
    "        series_sum = compute_series(n)\n",
    "        print(\"Sum of the series:\", series_sum)\n",
    "    else:\n",
    "        print(\"Please enter a positive integer for n.\")"
   ]
  },
  {
   "cell_type": "markdown",
   "id": "8a964abd-357e-4aee-bef7-70da5935bf37",
   "metadata": {},
   "source": [
    "# Question59:\n",
    "Write a program to compute:\n",
    "f(n)=f(n-1)+100 when n>0\n",
    "and f(0)=0\n",
    "with a given n input by console (n>0).\n",
    "###### Example: If the following n is given as input to the program:\n",
    "5\n",
    "###### Then, the output of the program should be:\n",
    "500\n",
    "###### In case of input data being supplied to the question, it should be assumed to be a\n",
    "console input.\n",
    "\n",
    "### Hints\n",
    "We can define recursive function in Python."
   ]
  },
  {
   "cell_type": "code",
   "execution_count": 31,
   "id": "7af9749f-7d26-4a44-84a6-f98f5f9daae2",
   "metadata": {},
   "outputs": [
    {
     "name": "stdin",
     "output_type": "stream",
     "text": [
      "Enter the value of n:  5\n"
     ]
    },
    {
     "name": "stdout",
     "output_type": "stream",
     "text": [
      "f(5) = 500\n"
     ]
    }
   ],
   "source": [
    "def f(n):\n",
    "    if n == 0:\n",
    "        return 0\n",
    "    else:\n",
    "        return f(n - 1) + 100\n",
    "\n",
    "if __name__ == \"__main__\":\n",
    "    n = int(input(\"Enter the value of n: \"))\n",
    "    if n > 0:\n",
    "        result = f(n)\n",
    "        print(\"f({}) = {}\".format(n, result))\n",
    "    else:\n",
    "        print(\"Please enter a positive integer for n.\")"
   ]
  },
  {
   "cell_type": "markdown",
   "id": "c7062f6d-dc1f-467d-95c5-5e871838ad56",
   "metadata": {},
   "source": [
    "# Question60:\n",
    "The Fibonacci Sequence is computed based on the following formula:\n",
    "f(n)=0 if n=0\n",
    "f(n)=1 if n=1\n",
    "f(n)=f(n-1)+f(n-2) if n>1\n",
    "Please write a program to compute the value of f(n) with a given n input by\n",
    "console.\n",
    "###### Example: If the following n is given as input to the program:\n",
    "7\n",
    "###### Then, the output of the program should be:\n",
    "13\n",
    "###### In case of input data being supplied to the question, it should be assumed to be a console input.\n",
    "\n",
    "### Hints\n",
    "We can define recursive function in Python."
   ]
  },
  {
   "cell_type": "code",
   "execution_count": 32,
   "id": "4fbb4d61-1c9f-4453-ad11-dd9fbdeef8cb",
   "metadata": {},
   "outputs": [
    {
     "name": "stdin",
     "output_type": "stream",
     "text": [
      "Enter the value of n:  7\n"
     ]
    },
    {
     "name": "stdout",
     "output_type": "stream",
     "text": [
      "f(7) = 13\n"
     ]
    }
   ],
   "source": [
    "def fibonacci(n):\n",
    "    if n == 0:\n",
    "        return 0\n",
    "    elif n == 1:\n",
    "        return 1\n",
    "    else:\n",
    "        return fibonacci(n - 1) + fibonacci(n - 2)\n",
    "\n",
    "if __name__ == \"__main__\":\n",
    "    n = int(input(\"Enter the value of n: \"))\n",
    "    if n >= 0:\n",
    "        result = fibonacci(n)\n",
    "        print(\"f({}) = {}\".format(n, result))\n",
    "    else:\n",
    "        print(\"Please enter a non-negative integer for n.\")"
   ]
  },
  {
   "cell_type": "markdown",
   "id": "6f06459b-9c9f-4f45-a3c9-a832fba15dd6",
   "metadata": {},
   "source": [
    "# Question61:\n",
    "The Fibonacci Sequence is computed based on the following formula:\n",
    "f(n)=0 if n=0\n",
    "f(n)=1 if n=1\n",
    "f(n)=f(n-1)+f(n-2) if n>1\n",
    "\n",
    "Please write a program to compute the value of f(n) with a given n input by\n",
    "console.\n",
    "###### Example: If the following n is given as input to the program:\n",
    "7\n",
    "###### Then, the output of the program should be:\n",
    "0,1,1,2,3,5,8,13\n",
    "   ###### In case of input data being supplied to the question, it should be assumed to be a\n",
    "console input.\n",
    "### Hints\r\n",
    "We can define recursive function in Python. Use list comprehension to generate\r\n",
    "a list from an existing list. Use string.join() to join a list of strings."
   ]
  },
  {
   "cell_type": "code",
   "execution_count": 2,
   "id": "74c44c54-6a11-4ae3-9009-7e06deb95d13",
   "metadata": {},
   "outputs": [
    {
     "name": "stdin",
     "output_type": "stream",
     "text": [
      "Enter the value of n:  7\n"
     ]
    },
    {
     "name": "stdout",
     "output_type": "stream",
     "text": [
      "Fibonacci sequence up to f(7): 0, 1, 1, 2, 3, 5, 8, 13\n"
     ]
    }
   ],
   "source": [
    "def fibonacci(n):\n",
    "    if n == 0:\n",
    "        return [0]\n",
    "    elif n == 1:\n",
    "        return [0, 1]\n",
    "    else:\n",
    "        fib_sequence = fibonacci(n - 1)\n",
    "        fib_sequence.append(fib_sequence[-1] + fib_sequence[-2])\n",
    "        return fib_sequence\n",
    "\n",
    "if __name__ == \"__main__\":\n",
    "    n = int(input(\"Enter the value of n: \"))\n",
    "    if n >= 0:\n",
    "        result = fibonacci(n)\n",
    "        print(\"Fibonacci sequence up to f({}):\".format(n), \", \".join(map(str, result)))\n",
    "    else:\n",
    "        print(\"Please enter a non-negative integer for n.\")"
   ]
  },
  {
   "cell_type": "markdown",
   "id": "c644a82f-7811-4438-93a5-9863f9312767",
   "metadata": {},
   "source": [
    "# Question62:\n",
    "Please write a program using generator to print the even numbers between 0 and\n",
    "n in comma separated form while n is input by console.\n",
    "###### Example: If the following n is given as input to the program:\n",
    "10\n",
    "###### Then, the output of the program should be:\n",
    "0,2,4,6,8,10\n",
    "In case of input data being supplied to the question, it should be assumed to be a\n",
    "console input.\n",
    "\n",
    "### Hints\n",
    "Use yield to produce the next value in generator."
   ]
  },
  {
   "cell_type": "code",
   "execution_count": 4,
   "id": "710e6f8c-0dd5-43cb-a0d7-2ca2fed9222d",
   "metadata": {},
   "outputs": [
    {
     "name": "stdin",
     "output_type": "stream",
     "text": [
      "Enter a number:  10\n"
     ]
    },
    {
     "name": "stdout",
     "output_type": "stream",
     "text": [
      "0,2,4,6,8,10\n"
     ]
    }
   ],
   "source": [
    "def generate_even_numbers(n):\n",
    "    for num in range(n + 1):\n",
    "        if num % 2 == 0:\n",
    "            yield num\n",
    "\n",
    "def main():\n",
    "    n = int(input(\"Enter a number: \"))\n",
    "    even_numbers = generate_even_numbers(n)\n",
    "    print(','.join(map(str, even_numbers)))\n",
    "\n",
    "if __name__ == \"__main__\":\n",
    "    main()"
   ]
  },
  {
   "cell_type": "markdown",
   "id": "13a643c3-c174-4bb7-9994-53fe4c07d965",
   "metadata": {},
   "source": [
    "# Question63:\n",
    "Please write a program using generator to print the numbers which can be\n",
    "divisible by 5 and 7 between 0 and n in comma separated form while n is input by\n",
    "console.\n",
    "###### Example: If the following n is given as input to the program:\n",
    "100\n",
    "###### Then, the output of the program should be:\n",
    "0,35,70\n",
    "In case of input data being supplied to the question, it should be assumed to be a\n",
    "console input.\n",
    "\n",
    "### Hints\n",
    "Use yield to produce the next value in generator."
   ]
  },
  {
   "cell_type": "code",
   "execution_count": 5,
   "id": "f7a10365-dab7-4370-a1b5-d143a195a511",
   "metadata": {},
   "outputs": [
    {
     "name": "stdin",
     "output_type": "stream",
     "text": [
      "Enter a number:  100\n"
     ]
    },
    {
     "name": "stdout",
     "output_type": "stream",
     "text": [
      "0,35,70\n"
     ]
    }
   ],
   "source": [
    "def generate_divisible_by_5_and_7(n):\n",
    "    for num in range(n + 1):\n",
    "        if num % 5 == 0 and num % 7 == 0:\n",
    "            yield num\n",
    "\n",
    "def main():\n",
    "    n = int(input(\"Enter a number: \"))\n",
    "    divisible_by_5_and_7 = generate_divisible_by_5_and_7(n)\n",
    "    print(','.join(map(str, divisible_by_5_and_7)))\n",
    "\n",
    "if __name__ == \"__main__\":\n",
    "    main()"
   ]
  },
  {
   "cell_type": "markdown",
   "id": "917d3c21-9f79-491b-ab28-70d77fd4e6b4",
   "metadata": {},
   "source": [
    "# Question64:\n",
    "Please write assert statements to verify that every number in the list [2,4,6,8] is\n",
    "even.\n",
    "\n",
    "### Hints\n",
    "Use \"assert expression\" to make assertion."
   ]
  },
  {
   "cell_type": "code",
   "execution_count": 6,
   "id": "4ddf97c8-c5f4-4392-9de6-42d5ea34d562",
   "metadata": {},
   "outputs": [
    {
     "name": "stdout",
     "output_type": "stream",
     "text": [
      "All numbers in the list are even.\n"
     ]
    }
   ],
   "source": [
    "numbers = [2, 4, 6, 8]\n",
    "for num in numbers:\n",
    "    assert num % 2 == 0, f\"{num} is not even.\"\n",
    "print(\"All numbers in the list are even.\")"
   ]
  },
  {
   "cell_type": "markdown",
   "id": "1e2ef14b-79e5-4653-8ba5-228795ed8b9e",
   "metadata": {},
   "source": [
    "# Question65:\n",
    "Please write a program which accepts basic mathematic expression from console\n",
    "and print the evaluation result.\n",
    "###### Example: If the following n is given as input to the program:\n",
    "35 + 3\n",
    "\n",
    "###### Then, the output of the program should be:\n",
    "38\n",
    "\n",
    "### Hints\n",
    "Use eval() to evaluate an expression."
   ]
  },
  {
   "cell_type": "code",
   "execution_count": 7,
   "id": "2732ef3e-f273-4218-ae43-44b9c49a8971",
   "metadata": {},
   "outputs": [
    {
     "name": "stdin",
     "output_type": "stream",
     "text": [
      "Enter a sorted list of numbers separated by space:  1 2 3 4 5 6 7\n",
      "Enter the target value to search for:  1\n"
     ]
    },
    {
     "name": "stdout",
     "output_type": "stream",
     "text": [
      "Element 1 found at index 0\n"
     ]
    }
   ],
   "source": [
    "def binary_search(arr, target):\n",
    "    low, high = 0, len(arr) - 1\n",
    "    while low <= high:\n",
    "        mid = (low + high) // 2\n",
    "        if arr[mid] == target:\n",
    "            return mid\n",
    "        elif arr[mid] < target:\n",
    "            low = mid + 1\n",
    "        else:\n",
    "            high = mid - 1\n",
    "    return -1\n",
    "arr = list(map(int, input(\"Enter a sorted list of numbers separated by space: \").split()))\n",
    "target = int(input(\"Enter the target value to search for: \"))\n",
    "index = binary_search(arr, target)\n",
    "if index != -1:\n",
    "    print(f\"Element {target} found at index {index}\")\n",
    "else:\n",
    "    print(f\"Element {target} not found in the list\")"
   ]
  },
  {
   "cell_type": "markdown",
   "id": "eb4e417f-61bd-46fb-957f-7a0aea789720",
   "metadata": {},
   "source": [
    "# Question66:\n",
    "Please generate a random float where the value is between 10 and 100 using\n",
    "Python module.\n",
    "\n",
    "### Hints\n",
    "Use random.random() to generate a random float in [0,1]."
   ]
  },
  {
   "cell_type": "code",
   "execution_count": 12,
   "id": "69c91aa5-603c-44b9-b28b-71e110587ceb",
   "metadata": {},
   "outputs": [
    {
     "name": "stdout",
     "output_type": "stream",
     "text": [
      "58.20923825470899\n"
     ]
    }
   ],
   "source": [
    "import random\n",
    "random_float = random.random() * (100 - 10) + 10\n",
    "print(random_float)"
   ]
  },
  {
   "cell_type": "markdown",
   "id": "1aef00bf-b485-4cca-9dbf-ca717bce6ad9",
   "metadata": {},
   "source": [
    "# Question67:\n",
    "Please generate a random float where the value is between 5 and 95 using\n",
    "Python module.\n",
    "\n",
    "### Hints\n",
    "Use random.random() to generate a random float in [0,1]."
   ]
  },
  {
   "cell_type": "code",
   "execution_count": 11,
   "id": "103c1b49-fc21-419e-998e-4ae0c1423bdf",
   "metadata": {},
   "outputs": [
    {
     "name": "stdout",
     "output_type": "stream",
     "text": [
      "18.086615360525553\n"
     ]
    }
   ],
   "source": [
    "import random\n",
    "random_float = random.random() * (95 - 5) + 5\n",
    "print(random_float)"
   ]
  },
  {
   "cell_type": "markdown",
   "id": "23cde6df-7c53-4cf1-b29d-2d00dbb3512c",
   "metadata": {},
   "source": [
    "# Question68:\n",
    "Please write a program to output a random even number between 0 and 10\n",
    "inclusive using random module and list comprehension.\n",
    "\n",
    "### Hints\n",
    "Use random.choice() to a random element from a list."
   ]
  },
  {
   "cell_type": "code",
   "execution_count": 13,
   "id": "352a4b82-a13a-4cf7-9904-4783d564cd15",
   "metadata": {},
   "outputs": [
    {
     "name": "stdout",
     "output_type": "stream",
     "text": [
      "Random even number between 0 and 10 : 8\n"
     ]
    }
   ],
   "source": [
    "import random\n",
    "even_numbers = [num for num in range(0, 11, 2)]\n",
    "random_even_number = random.choice(even_numbers)\n",
    "print(\"Random even number between 0 and 10 :\", random_even_number)"
   ]
  },
  {
   "cell_type": "markdown",
   "id": "18cc8011-79c3-450d-b560-e67315798c8c",
   "metadata": {},
   "source": [
    "# Question69:\n",
    "Please write a program to output a random number, which is divisible by 5 and\n",
    "7, between 10 and 150 inclusive using random module and list comprehension.\n",
    "\n",
    "### Hints\n",
    "Use random.choice() to a random element from a list."
   ]
  },
  {
   "cell_type": "code",
   "execution_count": 14,
   "id": "82188efc-0529-4823-a8db-166650829460",
   "metadata": {},
   "outputs": [
    {
     "name": "stdout",
     "output_type": "stream",
     "text": [
      "Random number divisible by 5 and 7 between 10 and 150 : 140\n"
     ]
    }
   ],
   "source": [
    "import random\n",
    "divisible_by_5_and_7 = [num for num in range(10, 151) if num % 5 == 0 and num % 7 == 0]\n",
    "random_number = random.choice(divisible_by_5_and_7)\n",
    "print(\"Random number divisible by 5 and 7 between 10 and 150 :\", random_number)"
   ]
  },
  {
   "cell_type": "markdown",
   "id": "38ffd632-d16e-40c5-9100-885cfbb28e97",
   "metadata": {},
   "source": [
    "# Question70:\n",
    "Please write a program to generate a list with 5 random numbers between 100\n",
    "and 200 inclusive.\n",
    "\n",
    "### Hints\n",
    "Use random.sample() to generate a list of random values."
   ]
  },
  {
   "cell_type": "code",
   "execution_count": 15,
   "id": "5a6badf5-1814-4836-8a97-fae6da6f78a3",
   "metadata": {},
   "outputs": [
    {
     "name": "stdout",
     "output_type": "stream",
     "text": [
      "List of 5 random numbers between 100 and 200 : [131, 180, 141, 110, 155]\n"
     ]
    }
   ],
   "source": [
    "import random\n",
    "random_numbers = random.sample(range(100, 201), 5)\n",
    "print(\"List of 5 random numbers between 100 and 200 :\", random_numbers)"
   ]
  },
  {
   "cell_type": "markdown",
   "id": "f5c33b24-9ec3-4fe9-aa88-c89d8450653d",
   "metadata": {},
   "source": [
    "# Question71:\n",
    "Please write a program to randomly generate a list with 5 even numbers between\n",
    "100 and 200 inclusive.\n",
    "\n",
    "### Hints\n",
    "\n",
    "Use random.sample() to generate a list of random values."
   ]
  },
  {
   "cell_type": "code",
   "execution_count": 16,
   "id": "5ddff122-2634-409b-987c-afff4aa2e1cd",
   "metadata": {},
   "outputs": [
    {
     "name": "stdout",
     "output_type": "stream",
     "text": [
      "List of 5 random even numbers between 100 and 200: [154, 194, 148, 138, 116]\n"
     ]
    }
   ],
   "source": [
    "import random\n",
    "\n",
    "random_even_numbers = random.sample(range(100, 201, 2), 5)\n",
    "print(\"List of 5 random even numbers between 100 and 200:\", random_even_numbers)"
   ]
  },
  {
   "cell_type": "markdown",
   "id": "d9801dc6-12d2-4bf4-867c-d5ad5f280f22",
   "metadata": {},
   "source": [
    "# Question72:\n",
    "Please write a program to randomly generate a list with 5 numbers, which are\n",
    "divisible by 5 and 7 , between 1 and 1000 inclusive.\n",
    "\n",
    "### Hints\n",
    "Use random.sample() to generate a list of random values."
   ]
  },
  {
   "cell_type": "code",
   "execution_count": 17,
   "id": "ff017633-5047-4e1d-a1c4-c7d37f45aaa7",
   "metadata": {},
   "outputs": [
    {
     "name": "stdout",
     "output_type": "stream",
     "text": [
      "List of 5 random numbers divisible by 5 and 7 between 1 and 1000 (inclusive): [140, 840, 35, 315, 945]\n"
     ]
    }
   ],
   "source": [
    "import random\n",
    "\n",
    "random_numbers = [num for num in random.sample(range(35, 1001, 35), 5)]\n",
    "print(\"List of 5 random numbers divisible by 5 and 7 between 1 and 1000 (inclusive):\", random_numbers)"
   ]
  },
  {
   "cell_type": "markdown",
   "id": "84ebff34-d7ce-424d-94c1-49ce7959f2d6",
   "metadata": {},
   "source": [
    "# Question73:\n",
    "Please write a program to randomly print a integer number between 7 and 15\n",
    "inclusive.\n",
    "\n",
    "### Hints\n",
    "Use random.randrange() to a random integer in a given range."
   ]
  },
  {
   "cell_type": "code",
   "execution_count": 19,
   "id": "76265e19-aaf0-4d07-9dfd-8085b5e5412a",
   "metadata": {},
   "outputs": [
    {
     "name": "stdout",
     "output_type": "stream",
     "text": [
      "Random number between 7 and 15 : 12\n"
     ]
    }
   ],
   "source": [
    "import random\n",
    "\n",
    "random_number = random.randrange(7, 16)\n",
    "print(\"Random number between 7 and 15 :\", random_number)"
   ]
  },
  {
   "cell_type": "markdown",
   "id": "3b7bc2ae-3ae8-4abf-b09d-d37dc63e2053",
   "metadata": {},
   "source": [
    "# Question74:\n",
    "Please write a program to compress and decompress the string \"hello\n",
    "world!hello world!hello world!hello world!\".\n",
    "\n",
    "### Hints\n",
    "Use zlib.compress() and zlib.decompress() to compress and decompress a string."
   ]
  },
  {
   "cell_type": "code",
   "execution_count": 20,
   "id": "2f633578-d336-4d16-a5eb-dcf508ac7239",
   "metadata": {},
   "outputs": [
    {
     "name": "stdout",
     "output_type": "stream",
     "text": [
      "Original String: hello world!hello world!hello world!hello world!\n",
      "Compressed String: b'x\\x9c\\xcbH\\xcd\\xc9\\xc9W(\\xcf/\\xcaIQ\\xcc \\x82\\r\\x00\\xbd[\\x11\\xf5'\n",
      "Decompressed String: hello world!hello world!hello world!hello world!\n"
     ]
    }
   ],
   "source": [
    "import zlib\n",
    "\n",
    "original_string = \"hello world!hello world!hello world!hello world!\"\n",
    "compressed_string = zlib.compress(original_string.encode())\n",
    "decompressed_string = zlib.decompress(compressed_string).decode()\n",
    "print(\"Original String:\", original_string)\n",
    "print(\"Compressed String:\", compressed_string)\n",
    "print(\"Decompressed String:\", decompressed_string)"
   ]
  },
  {
   "cell_type": "markdown",
   "id": "b44ed0f8-4021-4671-a0e4-7eae0ac45ccb",
   "metadata": {},
   "source": [
    "# Question75:\n",
    "Please write a program to print the running time of execution of \"1+1\" for 100\n",
    "times.\n",
    "\n",
    "### Hints\n",
    "Use timeit() function to measure the running time."
   ]
  },
  {
   "cell_type": "code",
   "execution_count": 21,
   "id": "06e85deb-ae91-418a-a584-388c464af2b9",
   "metadata": {},
   "outputs": [
    {
     "name": "stdout",
     "output_type": "stream",
     "text": [
      "Total execution time for '1+1' executed 100 times: 6.299989763647318e-06 seconds\n",
      "Total execution time for '1+1' executed 100 times: 6.599992047995329e-06 seconds\n"
     ]
    }
   ],
   "source": [
    "import timeit\n",
    "statement =\"1+1\"\n",
    "execution_time = timeit.timeit(stmt=statement, number=100)\n",
    "print(\"Total execution time for '1+1' executed 100 times:\", execution_time, \"seconds\")\n",
    "import timeit\n",
    "statement =\"1+1\"\n",
    "execution_time = timeit.timeit(stmt=statement, number=100)\n",
    "print(\"Total execution time for '1+1' executed 100 times:\", execution_time, \"seconds\")"
   ]
  },
  {
   "cell_type": "markdown",
   "id": "2f9262e3-b0e0-4184-ae6f-3c93eb5346f4",
   "metadata": {},
   "source": [
    "# Question76:\n",
    "Please write a program to shuffle and print the list [3,6,7,8].\n",
    "\n",
    "### Hints\n",
    "Use shuffle() function to shuffle a list."
   ]
  },
  {
   "cell_type": "code",
   "execution_count": 22,
   "id": "e63d1533-1e86-4762-9538-6712a91e25ec",
   "metadata": {},
   "outputs": [
    {
     "name": "stdout",
     "output_type": "stream",
     "text": [
      "Shuffled list: [8, 3, 7, 6]\n"
     ]
    }
   ],
   "source": [
    "import random\n",
    "\n",
    "my_list = [3, 6, 7, 8]\n",
    "random.shuffle(my_list)\n",
    "print(\"Shuffled list:\", my_list)"
   ]
  },
  {
   "cell_type": "markdown",
   "id": "0eb6a7f2-cf37-43f8-8dfe-296a41c47ba0",
   "metadata": {},
   "source": [
    "# Question77:\n",
    "Please write a program to generate all sentences where subject is in [\"I\",\n",
    "\"You\"] and verb is in [\"Play\", \"Love\"] and the object is in\n",
    "[\"Hockey\",\"Football\"].\n",
    "\n",
    "### Hints\n",
    "Use list[index] notation to get a element from a list."
   ]
  },
  {
   "cell_type": "code",
   "execution_count": 23,
   "id": "13902dab-c434-44b8-a487-a266608c94fc",
   "metadata": {},
   "outputs": [
    {
     "name": "stdout",
     "output_type": "stream",
     "text": [
      "I Play Hockey.\n",
      "I Play Football.\n",
      "I Love Hockey.\n",
      "I Love Football.\n",
      "You Play Hockey.\n",
      "You Play Football.\n",
      "You Love Hockey.\n",
      "You Love Football.\n"
     ]
    }
   ],
   "source": [
    "subjects = [\"I\", \"You\"]\n",
    "verbs = [\"Play\", \"Love\"]\n",
    "objects = [\"Hockey\", \"Football\"]\n",
    "for subject in subjects:\n",
    "    for verb in verbs:\n",
    "        for obj in objects:\n",
    "            sentence = f\"{subject} {verb} {obj}.\"\n",
    "            print(sentence)"
   ]
  },
  {
   "cell_type": "markdown",
   "id": "ffd3a77f-5bda-46ff-afef-f08c8fb41a9e",
   "metadata": {},
   "source": [
    "# Question78:\n",
    "Please write a program to print the list after removing even numbers in\n",
    "[5,6,77,45,22,12,24].\n",
    "### Hints\n",
    "Use list comprehension to delete a bunch of element from a list."
   ]
  },
  {
   "cell_type": "code",
   "execution_count": 24,
   "id": "04d48484-0e27-4603-8637-9e2141fdd66a",
   "metadata": {},
   "outputs": [
    {
     "name": "stdout",
     "output_type": "stream",
     "text": [
      "List after removing even numbers: [5, 77, 45]\n"
     ]
    }
   ],
   "source": [
    "numbers = [5, 6, 77, 45, 22, 12, 24]\n",
    "filtered_numbers = [num for num in numbers if num % 2 != 0]\n",
    "print(\"List after removing even numbers:\", filtered_numbers)"
   ]
  },
  {
   "cell_type": "markdown",
   "id": "0e2b236e-41c5-4dba-ac73-e5208ee4cfc4",
   "metadata": {},
   "source": [
    "# Question79:\n",
    "By using list comprehension, please write a program to print the list after\n",
    "removing numbers which are divisible by 5 and 7 in [12,24,35,70,88,120,155].\n",
    "\n",
    "### Hints\n",
    "Use list comprehension to delete a bunch of element from a list."
   ]
  },
  {
   "cell_type": "code",
   "execution_count": 25,
   "id": "606d789a-1e4d-460e-bff8-fbc3071c45a6",
   "metadata": {},
   "outputs": [
    {
     "name": "stdout",
     "output_type": "stream",
     "text": [
      "Original List: [12, 24, 35, 70, 88, 120, 155]\n",
      "List after removing numbers divisible by 5 and 7: [12, 24, 88, 120, 155]\n"
     ]
    }
   ],
   "source": [
    "original_list = [12, 24, 35, 70, 88, 120, 155]\n",
    "\n",
    "filtered_list = [num for num in original_list if num % 5 != 0 or num % 7 != 0]\n",
    "\n",
    "print(\"Original List:\", original_list)\n",
    "print(\"List after removing numbers divisible by 5 and 7:\", filtered_list)"
   ]
  },
  {
   "cell_type": "markdown",
   "id": "b2372a45-3525-4f6f-9b19-a21505817823",
   "metadata": {},
   "source": [
    "# Question80:\n",
    "By using list comprehension, please write a program to print the list after\n",
    "removing the 0th, 2nd, 4th,6th numbers in [12,24,35,70,88,120,155].\n",
    "\n",
    "### Hints\n",
    "Use list comprehension to delete a bunch of element from a list. Use enumerate()\n",
    "to get (index, value) tuple."
   ]
  },
  {
   "cell_type": "code",
   "execution_count": 26,
   "id": "b3e92b17-a6ed-4ad1-90e9-93da11bde031",
   "metadata": {},
   "outputs": [
    {
     "name": "stdout",
     "output_type": "stream",
     "text": [
      "Original List: [12, 24, 35, 70, 88, 120, 155]\n",
      "List after removing elements at specified indices: [24, 70, 120]\n"
     ]
    }
   ],
   "source": [
    "original_list = [12, 24, 35, 70, 88, 120, 155]\n",
    "indices_to_remove = [0, 2, 4, 6]\n",
    "filtered_list = [original_list[i] for i in range(len(original_list)) if i not in indices_to_remove]\n",
    "print(\"Original List:\", original_list)\n",
    "print(\"List after removing elements at specified indices:\", filtered_list)"
   ]
  },
  {
   "cell_type": "markdown",
   "id": "671d9c69-1ca9-4d87-9840-5ac6f988a69a",
   "metadata": {},
   "source": [
    "# Question81:\n",
    "By using list comprehension, please write a program to print the list after\n",
    "removing the 2nd - 4th numbers in [12,24,35,70,88,120,155].\n",
    "\n",
    "### Hints\n",
    "Use list comprehension to delete a bunch of element from a list. Use enumerate()\n",
    "to get (index, value) tuple."
   ]
  },
  {
   "cell_type": "code",
   "execution_count": 28,
   "id": "0df04805-5b55-47b5-9fd4-9909ae6b7228",
   "metadata": {},
   "outputs": [
    {
     "name": "stdout",
     "output_type": "stream",
     "text": [
      "[12, 24, 120, 155]\n"
     ]
    }
   ],
   "source": [
    "original_list = [12, 24, 35, 70, 88, 120, 155]\n",
    "filtered_list = [value for index, value in enumerate(original_list) if index < 2 or index > 4]\n",
    "print(filtered_list)"
   ]
  },
  {
   "cell_type": "markdown",
   "id": "9f59ebae-52ff-4f1b-9246-74a86477c91b",
   "metadata": {},
   "source": [
    "# Question82:\n",
    "By using list comprehension, please write a program generate a 3*5*8 3D array\n",
    "whose each element is 0.\n",
    "\n",
    "### Hints\n",
    "Use list comprehension to make an array."
   ]
  },
  {
   "cell_type": "code",
   "execution_count": 29,
   "id": "95ac4e23-56ec-47fb-a6a6-89dfa50e0bc5",
   "metadata": {},
   "outputs": [
    {
     "name": "stdout",
     "output_type": "stream",
     "text": [
      "[0, 0, 0, 0, 0, 0, 0, 0]\n",
      "[0, 0, 0, 0, 0, 0, 0, 0]\n",
      "[0, 0, 0, 0, 0, 0, 0, 0]\n",
      "[0, 0, 0, 0, 0, 0, 0, 0]\n",
      "[0, 0, 0, 0, 0, 0, 0, 0]\n",
      "\n",
      "[0, 0, 0, 0, 0, 0, 0, 0]\n",
      "[0, 0, 0, 0, 0, 0, 0, 0]\n",
      "[0, 0, 0, 0, 0, 0, 0, 0]\n",
      "[0, 0, 0, 0, 0, 0, 0, 0]\n",
      "[0, 0, 0, 0, 0, 0, 0, 0]\n",
      "\n",
      "[0, 0, 0, 0, 0, 0, 0, 0]\n",
      "[0, 0, 0, 0, 0, 0, 0, 0]\n",
      "[0, 0, 0, 0, 0, 0, 0, 0]\n",
      "[0, 0, 0, 0, 0, 0, 0, 0]\n",
      "[0, 0, 0, 0, 0, 0, 0, 0]\n",
      "\n"
     ]
    }
   ],
   "source": [
    "\n",
    "dim1 = 3\n",
    "dim2 = 5\n",
    "dim3 = 8\n",
    "array_3d = [[[0 for _ in range(dim3)] for _ in range(dim2)] for _ in range(dim1)]\n",
    "for i in range(dim1):\n",
    "    for j in range(dim2):\n",
    "        print(array_3d[i][j])\n",
    "    print()"
   ]
  },
  {
   "cell_type": "markdown",
   "id": "0a34f93a-5468-471c-b90b-c4820dea8757",
   "metadata": {},
   "source": [
    "# Question83:\n",
    "\n",
    "By using list comprehension, please write a program to print the list after\n",
    "removing the 0th,4th,5th numbers in [12,24,35,70,88,120,155].\n",
    "\n",
    "### Hints\n",
    "Use list comprehension to delete a bunch of element from a list.Use enumerate()\n",
    "to get (index, value) tuple."
   ]
  },
  {
   "cell_type": "code",
   "execution_count": 30,
   "id": "f70967d4-d723-4d0c-a5b3-c467e1135307",
   "metadata": {},
   "outputs": [
    {
     "name": "stdout",
     "output_type": "stream",
     "text": [
      "[24, 35, 70, 155]\n"
     ]
    }
   ],
   "source": [
    "original_list = [12, 24, 35, 70, 88, 120, 155]\n",
    "indices_to_remove = [0, 4, 5]\n",
    "filtered_list = [value for index, value in enumerate(original_list) if index not in indices_to_remove]\n",
    "print(filtered_list)"
   ]
  },
  {
   "cell_type": "markdown",
   "id": "c354638c-85bd-4066-9e68-d31dd6d1cadb",
   "metadata": {},
   "source": [
    "# Question85:\n",
    "With two given lists [1,3,6,78,35,55] and [12,24,35,24,88,120,155], write a\n",
    "program to make a list whose elements are intersection of the above given lists.\n",
    "\n",
    "### Hints\n",
    "Use set() and \"&=\" to do set intersection operation."
   ]
  },
  {
   "cell_type": "code",
   "execution_count": 31,
   "id": "097ec961-56d4-4d8a-8aeb-1040f69bf674",
   "metadata": {},
   "outputs": [
    {
     "name": "stdout",
     "output_type": "stream",
     "text": [
      "[35]\n"
     ]
    }
   ],
   "source": [
    "\n",
    "list1 = [1, 3, 6, 78, 35, 55]\n",
    "list2 = [12, 24, 35, 24, 88, 120, 155]\n",
    "set1 = set(list1)\n",
    "set2 = set(list2)\n",
    "intersection_set = set1 & set2\n",
    "intersection_list = list(intersection_set)\n",
    "print(intersection_list)"
   ]
  },
  {
   "cell_type": "markdown",
   "id": "750acdee-2f81-4a47-a7f2-ca67c30ebd23",
   "metadata": {},
   "source": [
    "# Question86:\n",
    "With a given list [12,24,35,24,88,120,155,88,120,155], write a program to print\n",
    "this list after removing all duplicate values with original order reserved.\n",
    "\n",
    "### Hints\n",
    "Use set() to store a number of values without duplicate."
   ]
  },
  {
   "cell_type": "code",
   "execution_count": 32,
   "id": "a87511af-a60d-4e04-93a3-728a15fa2738",
   "metadata": {},
   "outputs": [
    {
     "name": "stdout",
     "output_type": "stream",
     "text": [
      "[12, 24, 35, 88, 120, 155]\n"
     ]
    }
   ],
   "source": [
    "original_list = [12, 24, 35, 24, 88, 120, 155, 88, 120, 155]\n",
    "seen = set()\n",
    "unique_list = [x for x in original_list if not (x in seen or seen.add(x))]\n",
    "print(unique_list)"
   ]
  },
  {
   "cell_type": "markdown",
   "id": "639ac177-38f9-417c-8673-69fea7d2aac3",
   "metadata": {},
   "source": [
    "# Question87:\n",
    "Define a class Person and its two child classes: Male and Female. All classes\n",
    "have a method \"getGender\" which can print \"Male\" for Male class and\n",
    "\"Female\" for Female class.\n",
    "\n",
    "### Hints\n",
    "Use Subclass(Parentclass) to define a child class"
   ]
  },
  {
   "cell_type": "code",
   "execution_count": 36,
   "id": "619651c9-6276-461b-a336-58857369522b",
   "metadata": {},
   "outputs": [
    {
     "name": "stdin",
     "output_type": "stream",
     "text": [
      "Enter your gender (Male/Female):  male\n"
     ]
    },
    {
     "name": "stdout",
     "output_type": "stream",
     "text": [
      "Male\n"
     ]
    }
   ],
   "source": [
    "class Person:\n",
    "    def getGender(self):\n",
    "        return \"Unknown\"\n",
    "class Male(Person):\n",
    "    def getGender(self):\n",
    "        return \"Male\"\n",
    "class Female(Person):\n",
    "    def getGender(self):\n",
    "        return \"Female\"\n",
    "gender = input(\"Enter your gender (Male/Female): \").strip().lower()\n",
    "if gender == \"male\":\n",
    "    person = Male()\n",
    "elif gender == \"female\":\n",
    "    person = Female()\n",
    "else:\n",
    "    person = Person()  \n",
    "print(person.getGender())"
   ]
  },
  {
   "cell_type": "markdown",
   "id": "8df8ed94-ae61-4fb8-aa03-1355f25c5f8a",
   "metadata": {},
   "source": [
    "# Question88:\n",
    "Please write a program which count and print the numbers of each character in\n",
    "a string input by console.\n",
    "##### Example: If the following string is given as input to the program:\n",
    "abcdefgabc\n",
    "##### Then, the output of the program should be:\n",
    "a,2\n",
    "c,2\n",
    "b,2\n",
    "e,1\n",
    "d,1\n",
    "g,1\n",
    "f,1\n",
    "### Hints\n",
    "Use dict to store key/value pairs. Use dict.get() method to lookup a key with\n",
    "default value."
   ]
  },
  {
   "cell_type": "code",
   "execution_count": 37,
   "id": "b0f2d5b9-251b-4b4e-921d-bd9e1d9c28ef",
   "metadata": {},
   "outputs": [
    {
     "name": "stdin",
     "output_type": "stream",
     "text": [
      "Enter a string:  abcdefgabc \n"
     ]
    },
    {
     "name": "stdout",
     "output_type": "stream",
     "text": [
      "a,2\n",
      "b,2\n",
      "c,2\n",
      "d,1\n",
      "e,1\n",
      "f,1\n",
      "g,1\n",
      " ,1\n"
     ]
    }
   ],
   "source": [
    "input_string = input(\"Enter a string: \")\n",
    "char_count = {}\n",
    "for char in input_string:\n",
    "    if char in char_count:\n",
    "        char_count[char] += 1\n",
    "    else:\n",
    "        char_count[char] = 1\n",
    "for char, count in char_count.items():\n",
    "    print(f\"{char},{count}\")"
   ]
  },
  {
   "cell_type": "markdown",
   "id": "3a1b39cf-3e73-492e-ad2a-f4b80a9626c9",
   "metadata": {},
   "source": [
    "# Question89:\n",
    "Please write a program which accepts a string from console and print it in\n",
    "reverse order.\n",
    "##### Example: If the following string is given as input to the program:*\n",
    "\n",
    "rise to vote sir\n",
    "##### Then, the output of the program should be:\n",
    "sir vote to rise\n",
    "### Hints\n",
    "Use list[::-1] to iterate a list in a reverse order."
   ]
  },
  {
   "cell_type": "code",
   "execution_count": 39,
   "id": "9de67cd4-d20a-492a-8fdf-8a9337322ff4",
   "metadata": {},
   "outputs": [
    {
     "name": "stdin",
     "output_type": "stream",
     "text": [
      "Enter a string:  rise to vote sir \n"
     ]
    },
    {
     "name": "stdout",
     "output_type": "stream",
     "text": [
      "Reversed string: sir vote to rise\n"
     ]
    }
   ],
   "source": [
    "input_string = input(\"Enter a string: \")\n",
    "words = input_string.split()\n",
    "reversed_string = ' '.join(words[::-1]\n",
    "print(\"Reversed string:\", reversed_string)\n"
   ]
  },
  {
   "cell_type": "markdown",
   "id": "b3210d4e-b02d-4b98-8bca-3b625602dee8",
   "metadata": {},
   "source": [
    "# Question90:\n",
    "Please write a program which accepts a string from console and print the\n",
    "characters that have even indexes.\n",
    "##### Example: If the following string is given as input to the program:\n",
    "H1e2l3l4o5w6o7r8l9d\n",
    "##### Then, the output of the program should be:\n",
    "Helloworld\n",
    "### Hints\n",
    "Use list[::2] to iterate a list by step 2."
   ]
  },
  {
   "cell_type": "code",
   "execution_count": 40,
   "id": "2f6a143f-62fc-47e7-94cd-dcd18ac70929",
   "metadata": {},
   "outputs": [
    {
     "name": "stdin",
     "output_type": "stream",
     "text": [
      "Enter a string:  H1e2l3l4o5w6o7r8l9d\n"
     ]
    },
    {
     "name": "stdout",
     "output_type": "stream",
     "text": [
      "Characters with even indexes: Helloworld\n"
     ]
    }
   ],
   "source": [
    "input_string = input(\"Enter a string: \")\n",
    "result_string = input_string[::2]\n",
    "print(\"Characters with even indexes:\", result_string)"
   ]
  },
  {
   "cell_type": "markdown",
   "id": "f0ad4932-ee4e-4fd8-902a-ebb44664d24f",
   "metadata": {},
   "source": [
    "# Question91:\n",
    "Please write a program which prints all permutations of [1,2,3]\n",
    "\n",
    "### Hint:\n",
    "Use itertools.permutations() to get permutations of list."
   ]
  },
  {
   "cell_type": "code",
   "execution_count": 41,
   "id": "f0d0b68e-76c2-4d6a-a80f-78a3bbfd0527",
   "metadata": {},
   "outputs": [
    {
     "name": "stdout",
     "output_type": "stream",
     "text": [
      "(1, 2, 3)\n",
      "(1, 3, 2)\n",
      "(2, 1, 3)\n",
      "(2, 3, 1)\n",
      "(3, 1, 2)\n",
      "(3, 2, 1)\n"
     ]
    }
   ],
   "source": [
    "import itertools\n",
    "\n",
    "lst = [1, 2, 3]\n",
    "permutations = itertools.permutations(lst)\n",
    "for perm in permutations:\n",
    "    print(perm)"
   ]
  },
  {
   "cell_type": "markdown",
   "id": "fd18555e-181b-431a-94b4-611b1d7d5f55",
   "metadata": {},
   "source": [
    "# Question 92:\n",
    "Write a program to solve a classic ancient Chinese puzzle: We count 35 heads\n",
    "and 94 legs among the chickens and rabbits in a farm. How many rabbits and\n",
    "how many chickens do we have?\n",
    "\n",
    "### Hints\n",
    "Use for loop to iterate all possible solutions."
   ]
  },
  {
   "cell_type": "code",
   "execution_count": 43,
   "id": "9840a756-e195-4b45-97a4-b7663fd19d9f",
   "metadata": {},
   "outputs": [
    {
     "name": "stdout",
     "output_type": "stream",
     "text": [
      "Number of chickens: 23\n",
      "Number of rabbits: 12\n"
     ]
    }
   ],
   "source": [
    "def solve_puzzle(heads, legs):\n",
    "    rabbits = (legs - 2 * heads) / 2\n",
    "    chickens = heads - rabbits\n",
    "    return int(chickens), int(rabbits)\n",
    "total_heads = 35\n",
    "total_legs = 94\n",
    "chickens, rabbits = solve_puzzle(total_heads, total_legs)\n",
    "print(f\"Number of chickens: {chickens}\")\n",
    "print(f\"Number of rabbits: {rabbits}\")"
   ]
  },
  {
   "cell_type": "markdown",
   "id": "899a55f8-2292-4a10-8895-81ed07869c78",
   "metadata": {},
   "source": [
    "# Question93:\n",
    "Given the participants' score sheet for your University Sports Day, you are\n",
    "required to find the runner-up score. You are given scores. Store them in a list\n",
    "and find the score of the runner-up.\n",
    "##### If the following string is given as input to the program:\n",
    "5\n",
    "2 3 6 6 5\n",
    "##### Then, the output of the program should be:\n",
    "5\n",
    "### Hints\n",
    "Make the scores unique and then find 2nd best number"
   ]
  },
  {
   "cell_type": "code",
   "execution_count": 45,
   "id": "1b9c9341-c9e0-456c-aed0-3d0d57f1dc63",
   "metadata": {},
   "outputs": [
    {
     "name": "stdin",
     "output_type": "stream",
     "text": [
      "Enter the number of scores:  6\n",
      "Enter the scores separated by space:  5 2 3 6 6 5\n"
     ]
    },
    {
     "name": "stdout",
     "output_type": "stream",
     "text": [
      "Runner-up score: 5\n"
     ]
    }
   ],
   "source": [
    "n = int(input(\"Enter the number of scores: \"))\n",
    "scores = list(map(int, input(\"Enter the scores separated by space: \").split()))\n",
    "unique_scores = set(scores)\n",
    "sorted_scores = sorted(unique_scores, reverse=True)\n",
    "runner_up_score = sorted_scores[1]\n",
    "print(\"Runner-up score:\", runner_up_score)"
   ]
  },
  {
   "cell_type": "markdown",
   "id": "c7408d25-03e3-43c5-86b8-7d9873a42de7",
   "metadata": {},
   "source": [
    "# Question94:\n",
    "You are given a string S and width W. Your task is to wrap the string into a\n",
    "paragraph of width.\n",
    "###### If the following string is given as input to the program:\n",
    "ABCDEFGHIJKLIMNOQRSTUVWXYZ\n",
    "4\n",
    "###### Then, the output of the program should be:\n",
    "ABCD\n",
    "EFGH\n",
    "IJKL\n",
    "IMNO\n",
    "QRST\n",
    "\n",
    "UVWX\n",
    "YZ\n",
    "### Hints\n",
    "Use wrap function of textwrap module"
   ]
  },
  {
   "cell_type": "code",
   "execution_count": 50,
   "id": "ec6025b5-b3ff-4548-8c9a-74ec13d160d3",
   "metadata": {},
   "outputs": [
    {
     "name": "stdin",
     "output_type": "stream",
     "text": [
      "Enter the string:  ABCDEFGHIJKLIMNOQRSTUVWXYZ\n",
      "Enter the width:  5\n"
     ]
    },
    {
     "name": "stdout",
     "output_type": "stream",
     "text": [
      "Wrapped string:\n",
      "ABCDE\n",
      "FGHIJ\n",
      "KLIMN\n",
      "OQRST\n",
      "UVWXY\n",
      "Z\n"
     ]
    }
   ],
   "source": [
    "import textwrap\n",
    "input_string = input(\"Enter the string: \")\n",
    "width = int(input(\"Enter the width: \"))\n",
    "wrapped_string = textwrap.fill(input_string, width)\n",
    "print(\"Wrapped string:\")\n",
    "print(wrapped_string)"
   ]
  },
  {
   "cell_type": "markdown",
   "id": "ef345932-26b3-4fdd-b224-26b0b0801615",
   "metadata": {},
   "source": [
    "# Question95:\n",
    "You are given an integer, N. Your task is to print an alphabet rangoli of size N.\n",
    "(Rangoli is a form of Indian folk art based on creation of patterns.)\n",
    "##### Different sizes of alphabet rangoli are shown below:\n",
    "###### #size 3\n",
    "----c----\n",
    "--c-b-c--\n",
    "c-b-a-b-c\n",
    "--c-b-c--\n",
    "----c----\n",
    "###### #size 5\n",
    "--------e--------\n",
    "------e-d-e------\n",
    "----e-d-c-d-e----\n",
    "--e-d-c-b-c-d-e--\n",
    "e-d-c-b-a-b-c-d-e\n",
    "--e-d-c-b-c-d-e--\n",
    "----e-d-c-d-e----\n",
    "------e-d-e------\n",
    "--------e--------\n",
    "### Hints\n",
    "First print the half of the Rangoli in the given way and save each line in a list.\n",
    "Then print the list in reverse order to get the rest."
   ]
  },
  {
   "cell_type": "code",
   "execution_count": 51,
   "id": "7d4770c8-b0d8-43aa-b343-314bc05afd36",
   "metadata": {},
   "outputs": [
    {
     "name": "stdin",
     "output_type": "stream",
     "text": [
      "Enter the size of the rangoli (N):  3\n"
     ]
    },
    {
     "name": "stdout",
     "output_type": "stream",
     "text": [
      "c-b-a-b-c\n",
      "--b-a-b--\n",
      "----a----\n",
      "--b-a-b--\n",
      "c-b-a-b-c\n"
     ]
    }
   ],
   "source": [
    "def print_rangoli(size):\n",
    "    for i in range(size - 1, -size, -1):\n",
    "        line = '-'.join(chr(97 + abs(j)) for j in range(size - 1, -size, -1) if abs(j) <= abs(i))\n",
    "        print(line.center(4 * size - 3, '-'))\n",
    "size = int(input(\"Enter the size of the rangoli (N): \"))\n",
    "print_rangoli(size)"
   ]
  },
  {
   "cell_type": "markdown",
   "id": "8594547d-f60d-444e-9f17-37d940cc35ac",
   "metadata": {},
   "source": [
    "# Question96:\n",
    "You are given a date. Your task is to find what the day is on that date.\n",
    "##### Input\n",
    "A single line of input containing the space separated month, day and year,\n",
    "respectively, in MM DD YYYY format.\n",
    "08 05 2015\n",
    "##### Output\n",
    "the correct day in capital letters.\n",
    "WEDNESDAY\n",
    "\n",
    "#### Hints\n",
    "Use weekday function of calender module"
   ]
  },
  {
   "cell_type": "code",
   "execution_count": 17,
   "id": "627f9b90-ea99-4f0f-be02-da63b3b5c0e0",
   "metadata": {},
   "outputs": [
    {
     "name": "stdin",
     "output_type": "stream",
     "text": [
      "Enter the date in month-day-year[MM DD YYYY] format:  05 22 2024\n"
     ]
    },
    {
     "name": "stdout",
     "output_type": "stream",
     "text": [
      "WEDNESDAY\n"
     ]
    }
   ],
   "source": [
    "import calendar\n",
    "\n",
    "input_date = input(\"Enter the date in month-day-year[MM DD YYYY] format: \")\n",
    "month, day, year = map(int, input_date.split())\n",
    "day_of_week = calendar.weekday(year, month, day)\n",
    "day_name = calendar.day_name[day_of_week]\n",
    "print(day_name.upper())"
   ]
  },
  {
   "cell_type": "markdown",
   "id": "cc0b01d3-dd8d-4952-9d56-f35fff875083",
   "metadata": {},
   "source": [
    "# Question97:\n",
    "Given 2 sets of integers, M and N, print their symmetric difference in ascending\n",
    "order. The term symmetric difference indicates those values that exist in either M\n",
    "or N but do not exist in both.\n",
    "##### Input\n",
    "\n",
    "The first line of input contains an integer, M.The second line contains M space-\n",
    "separated integers.The third line contains an integer, N.The fourth line contains\n",
    "\n",
    "N space-separated integers.\n",
    "4\n",
    "2 4 5 9\n",
    "4\n",
    "2 4 11 12\n",
    "##### Output\n",
    "Output the symmetric difference integers in ascending order, one per line.\n",
    "\n",
    "5\n",
    "9\n",
    "11\n",
    "12\n",
    "\n",
    "#### Hints\n",
    "Use '^' to make symmetric difference operation."
   ]
  },
  {
   "cell_type": "code",
   "execution_count": 3,
   "id": "ccacae6c-d9b7-414d-8270-e49745939909",
   "metadata": {},
   "outputs": [
    {
     "name": "stdin",
     "output_type": "stream",
     "text": [
      "Enter integer for frist set : 1\n",
      "Enter element of frist set {integer} seperated by space 121 123 124\n",
      "Enter integer for second set : 2\n",
      "Enter element of second  set {integer} seperated by space 127 175\n"
     ]
    },
    {
     "name": "stdout",
     "output_type": "stream",
     "text": [
      "121\n",
      "123\n",
      "124\n",
      "127\n",
      "175\n"
     ]
    }
   ],
   "source": [
    "M = int(input(\"Enter integer for frist set :\"))\n",
    "set_M = set(map(int, input('Enter element of frist set {integer} seperated by space').split()))\n",
    "N = int(input(\"Enter integer for second set :\"))\n",
    "set_N = set(map(int, input('Enter element of second  set {integer} seperated by space').split()))\n",
    "symmetric_diff = sorted(set_M.symmetric_difference(set_N))\n",
    "for num in symmetric_diff:\n",
    "    print(num)\n"
   ]
  },
  {
   "cell_type": "markdown",
   "id": "1eb28076-e2b2-4e8e-8f97-4fc34a42b13f",
   "metadata": {},
   "source": [
    "# Question 98\n",
    "You are given words. Some words may repeat. For each word, output its number\n",
    "of occurrences. The output order should correspond with the input order of\n",
    "appearance of the word. See the sample input/output for clarification.\n",
    "###### If the following string is given as input to the program:\n",
    "4\n",
    "bcdef\n",
    "abcdefg\n",
    "bcde\n",
    "bcdef\n",
    "###### Then, the output of the program should be:\n",
    "3\n",
    "2 1 1\n",
    "#### Hints\n",
    "Make a list to get the input order and a dictionary to count the word frequency"
   ]
  },
  {
   "cell_type": "code",
   "execution_count": 6,
   "id": "09e3fae0-1d1f-4ca3-8f3b-0b6044c81d10",
   "metadata": {},
   "outputs": [
    {
     "name": "stdin",
     "output_type": "stream",
     "text": [
      "Enter number of words:   4 \n",
      "Enter word:  bcdef \n",
      "Enter word:  abcdefg \n",
      "Enter word:  bcde \n",
      "Enter word:  bcdef \n"
     ]
    },
    {
     "name": "stdout",
     "output_type": "stream",
     "text": [
      "3\n",
      "2 1 1 \n"
     ]
    }
   ],
   "source": [
    "def count_word_occurrences(words):\n",
    "    words_list = []    \n",
    "    word_count = {}     \n",
    "    for word in words:\n",
    "        if word not in word_count:\n",
    "            words_list.append(word)\n",
    "            word_count[word] = 1\n",
    "        else:\n",
    "            word_count[word] += 1\n",
    "    print(len(words_list))\n",
    "    for word in words_list:\n",
    "        print(word_count[word], end=' ')\n",
    "    print()\n",
    "if __name__ == \"__main__\":\n",
    "    n = int(input(\"Enter number of words: \"))\n",
    "    words = []\n",
    "    for _ in range(n):\n",
    "        word = input(\"Enter word: \")\n",
    "        words.append(word)\n",
    "    count_word_occurrences(words)"
   ]
  },
  {
   "cell_type": "markdown",
   "id": "2d824c65-d6a2-4aed-b9b9-215363cfbce1",
   "metadata": {},
   "source": [
    "# Question99:\n",
    "You are given a string.Your task is to count the frequency of letters of the string\n",
    "and print the letters in descending order of frequency.\n",
    "###### If the following string is given as input to the program:\n",
    "aabbbccde\n",
    "\n",
    "###### Then, the output of the program should be:\n",
    "b 3\n",
    "\n",
    "a 2\n",
    "c 2\n",
    "d 1\n",
    "e 1\n",
    "#### Hints\n",
    "Count frequency with dictionary and sort by Value from dictionary Items 4 bcdef abcdefg bcde bcdef "
   ]
  },
  {
   "cell_type": "code",
   "execution_count": 9,
   "id": "cb5dc0c8-7610-4533-a8ac-1fa9fcd8f199",
   "metadata": {},
   "outputs": [
    {
     "name": "stdin",
     "output_type": "stream",
     "text": [
      "Enter a string:  finally working acuratly\n"
     ]
    },
    {
     "name": "stdout",
     "output_type": "stream",
     "text": [
      "a 3\n",
      "l 3\n",
      "i 2\n",
      "n 2\n",
      "y 2\n",
      "  2\n",
      "r 2\n",
      "f 1\n",
      "w 1\n",
      "o 1\n",
      "k 1\n",
      "g 1\n",
      "c 1\n",
      "u 1\n",
      "t 1\n"
     ]
    }
   ],
   "source": [
    "def count_and_sort_characters(s):\n",
    "\n",
    "    freq = {}\n",
    "    for char in s:\n",
    "        if char in freq:\n",
    "            freq[char] += 1\n",
    "        else:\n",
    "            freq[char] = 1\n",
    "    sorted_chars = sorted(freq.items(), key=lambda x: x[1], reverse=True)\n",
    "    for char, count in sorted_chars:\n",
    "        print(char, count)\n",
    "\n",
    "if __name__ == \"__main__\":\n",
    "    input_string = input(\"Enter a string: \").strip()\n",
    "    count_and_sort_characters(input_string)"
   ]
  },
  {
   "cell_type": "markdown",
   "id": "b2300aa7-5098-4dcd-9bbd-1c679ad2649d",
   "metadata": {},
   "source": [
    "# Question100:\n",
    "Write a Python program that accepts a string and calculate the number of digits\n",
    "and letters.\n",
    "##### Input\n",
    "Hello321Bye360\n",
    "##### Output\n",
    "Digit - 6\n",
    "Letter - 8\n",
    "\n",
    "#### Hints\n",
    "Use isdigit() and isalpha() function"
   ]
  },
  {
   "cell_type": "code",
   "execution_count": 11,
   "id": "6b645587-fb02-4d79-81a3-5354357ca5fd",
   "metadata": {},
   "outputs": [
    {
     "name": "stdin",
     "output_type": "stream",
     "text": [
      "Enter a string:  got 1st position\n"
     ]
    },
    {
     "name": "stdout",
     "output_type": "stream",
     "text": [
      "Digit - 1\n",
      "Letter - 13\n"
     ]
    }
   ],
   "source": [
    "def count_digits_letters(s):\n",
    "    digit_count = sum(1 for char in s if char.isdigit())\n",
    "    letter_count = sum(1 for char in s if char.isalpha())\n",
    "    return digit_count, letter_count\n",
    "\n",
    "if __name__ == \"__main__\":\n",
    "    input_string = input(\"Enter a string: \")\n",
    "    digit_count, letter_count = count_digits_letters(input_string)\n",
    "    print(f\"Digit - {digit_count}\")\n",
    "    print(f\"Letter - {letter_count}\")"
   ]
  },
  {
   "cell_type": "markdown",
   "id": "55044f18-7e92-4dd3-8bc8-925ba5620c12",
   "metadata": {},
   "source": [
    "# Question101:\n",
    "Given a number N.Find Sum of 1 to N Using Recursion\n",
    "##### Input\n",
    "5\n",
    "##### Output\n",
    "15\n",
    "\n",
    "####  Hints\n",
    "Make a recursive function to get the sum"
   ]
  },
  {
   "cell_type": "code",
   "execution_count": 15,
   "id": "07c03938-a551-49e7-a60c-0ce6349f3408",
   "metadata": {},
   "outputs": [
    {
     "name": "stdin",
     "output_type": "stream",
     "text": [
      "Enter a number N:  104\n"
     ]
    },
    {
     "name": "stdout",
     "output_type": "stream",
     "text": [
      "Sum of numbers from 1 to 104 is: 5460\n"
     ]
    }
   ],
   "source": [
    "def sum_recursive(n):\n",
    "  \n",
    "    if n <= 0:\n",
    "        return 0\n",
    "    else:\n",
    "        return n + sum_recursive(n - 1)\n",
    "\n",
    "if __name__ == \"__main__\":\n",
    "    N = int(input(\"Enter a number N: \"))\n",
    "    result = sum_recursive(N)\n",
    "    print(f\"Sum of numbers from 1 to {N} is: {result}\")"
   ]
  },
  {
   "cell_type": "code",
   "execution_count": null,
   "id": "7b25c9ce-e5b0-4f18-b30a-9d6a6ad66e82",
   "metadata": {},
   "outputs": [],
   "source": []
  }
 ],
 "metadata": {
  "kernelspec": {
   "display_name": "Python 3 (ipykernel)",
   "language": "python",
   "name": "python3"
  },
  "language_info": {
   "codemirror_mode": {
    "name": "ipython",
    "version": 3
   },
   "file_extension": ".py",
   "mimetype": "text/x-python",
   "name": "python",
   "nbconvert_exporter": "python",
   "pygments_lexer": "ipython3",
   "version": "3.11.7"
  }
 },
 "nbformat": 4,
 "nbformat_minor": 5
}
